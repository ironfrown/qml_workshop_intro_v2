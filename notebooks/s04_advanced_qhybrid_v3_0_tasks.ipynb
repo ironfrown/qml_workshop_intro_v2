{
 "cells": [
  {
   "cell_type": "markdown",
   "id": "285e4b45-18ca-4e95-a771-1883d90c16ce",
   "metadata": {},
   "source": [
    "*Do not delete this style setting*"
   ]
  },
  {
   "cell_type": "code",
   "execution_count": 1,
   "id": "660013a9-981b-499a-a479-a237edf06dcd",
   "metadata": {},
   "outputs": [
    {
     "data": {
      "text/html": [
       "<style>\n",
       "table {float:left}\n",
       "</style>\n"
      ],
      "text/plain": [
       "<IPython.core.display.HTML object>"
      ]
     },
     "metadata": {},
     "output_type": "display_data"
    }
   ],
   "source": [
    "%%html\n",
    "<style>\n",
    "table {float:left}\n",
    "</style>"
   ]
  },
  {
   "cell_type": "markdown",
   "id": "2bfc6bdc-f3a6-4fa5-937b-e40a1fcbcae9",
   "metadata": {},
   "source": [
    "# Session 4<br>Quantum-Classical Hybrid Models\n",
    "\n",
    "<table>\n",
    "    <tr><td><strong>Aim:</strong></td>\n",
    "        <td>To explore the creation and use of a hybrid quantum-classical classifiers in <strong>PennyLane</strong> and <strong>PyTorch</strong>.\n",
    "            Note that by embedding a PennyLane model in PyTorch, we have gained a\n",
    "            richer machine learning environment than that available in PennyLane\n",
    "            alone. One of the aims of this session is to explore explore the\n",
    "            opportunities.</td></tr>\n",
    "    <tr><td><strong>Author:</strong></td>\n",
    "        <td>Jacob L. Cybulski (<a href=\"https://jacobcybulski.com/\" target=\"_blank\">website</a>),\n",
    "            <em>Enquanted</em></td></tr>\n",
    "    <tr><td><strong>Release:</strong></td>\n",
    "        <td>September 2025</td></tr>\n",
    "    <tr><td><strong>Datasets:</strong></td>\n",
    "        <td>We will use the following two datasets from UCI repository (require: pip install ucimlrepo):<br>\n",
    "        <ol>\n",
    "            <li><a href=\"https://archive.ics.uci.edu/dataset/10/automobile\" target=\"_blank\">Automobiles</a>:\n",
    "              This is a database of automobile specs. The aim is to determine its insurance risk (symboling). Data loading and preprocessing was included below.</li>\n",
    "            <li><a href=\"https://archive.ics.uci.edu/dataset/151/connectionist+bench+sonar+mines+vs+rocks\" target=\"_blank\">Sonar</a>:\n",
    "              The aim is to discriminate between sonar signals bounced off a mine (metal cylinder) or a rock (roughly cylindrical).</li>\n",
    "        </ol></td></tr>\n",
    "    <tr><td><strong>Tasks:</strong></td>\n",
    "        <td>40 minutes (unfinished tasks go to self-directed \"challenges\")</td></tr>\n",
    "    <tr>\n",
    "        <td></td>\n",
    "        <td>Perform the following tasks<br>(record your observations at end of this notebook):<br>\n",
    "        <ol>\n",
    "            <li>Initially use the <strong><em>Automobiles</em></strong> dataset 1 (as provided).<br>\n",
    "                Follow the instructor demonstration to step through the code.\n",
    "                <ul>\n",
    "                  <li>we will investigate the structure of the LogisticRegression model<br>\n",
    "                  which needs to be evolved from the previously developed Quantum_Auto.</li>\n",
    "                  <li>we will rely on some of the previously discussed data preparation steps.<br>\n",
    "                  Note the model training and test performance (Cost and Accuracy)</li>\n",
    "                </ul>\n",
    "            </li>\n",
    "            <li>First we will apply sigmoid function to the model predictions (forward).\n",
    "                <ul>\n",
    "                  <li>Can you execute and score the new model without any issues?<br>\n",
    "                      - If so, you are lucky! You have a quantum logarithmic regression model!<br>\n",
    "                      - If not, think why not and go to the next step!</li>\n",
    "                </ul>\n",
    "            </li>\n",
    "            <li>Let's change our quantum model to measure the probability of the top qubit?\n",
    "                <ul>\n",
    "                  <li>Did it work? If not at what point in the process did you get an error?<br>\n",
    "                      - Trace back your steps and check all statements leading to an error.<br>\n",
    "                      - Fix the problem inside the PyTorch model. How?</li>\n",
    "                  <li>Hint: add a classical layer to the PyTorch model.<br>\n",
    "                      If it worked, can the model performance improve by more training epochs?<br>\n",
    "                      - We now have a working hybrid quantum-classical logarithmic regression model!\n",
    "                  </li>\n",
    "                </ul>\n",
    "            </li>\n",
    "            <li>We have left an Easter egg surprise within the LogisticRegression model.\n",
    "                <ul>\n",
    "                    <li>Use it to generate a complex hybrid model.</li>\n",
    "                    <li>Test its performance. Can you explain the results?</li>\n",
    "                    <li>Now remove the quantum model from the model and check again.</li>\n",
    "                    <li>What does it mean?</li>\n",
    "                </ul>\n",
    "            </li>\n",
    "            <li>Compare all models developed in this session and their performance.</li>\n",
    "            <li>Reflect on this session.</li>\n",
    "        </ol></td>\n",
    "    </tr>\n",
    "    <tr>\n",
    "        <td><strong>Challenge<br>Tasks:</strong></td>\n",
    "        <td>Perform one or more of the following tasks in your own time:<br/>\n",
    "        <ol style=\"list-style-type: upper-alpha;\">\n",
    "            <li>Complete the unfinished tasks.</li>\n",
    "            <li>Use LBFGS optimiser (reduce the number of epochs to 20).<br>\n",
    "                Have you noticed any impact on the model performance?</li>\n",
    "            <li>Use a different quantum model and see if it helps.</li>\n",
    "            <li>Investigate the notebook for quantum autoencoders (QAE)\n",
    "            <ul>\n",
    "                <li>Explore the dataset generated by Mackey–Glass function, as well as<br>\n",
    "                    the quantum implementations of the replicating and denoising QAEs</li>\n",
    "                <li>Rewrite the denoising QAE within the PyTorch nn.Module framework.</li>\n",
    "                <li>Test your PennyLane / PyTorch QAE model.</li>\n",
    "                <li>Improve the model performance.</li>\n",
    "            </ul></li>\n",
    "            <li>Reflect on this challenge.</li>\n",
    "        </ol></td>\n",
    "    </tr>\n",
    "    <tr><td><strong><br>References:</strong></td>\n",
    "        <td>Organising Torch layers in PennyLane:<br>\n",
    "            <ul>\n",
    "            <li><a href = \"https://pennylane.ai/qml/demos/tutorial_qnn_module_torch\" target=\"_blank\">Thomas Bromley, \"Turning quantum nodes into Torch Layers\",<br>\n",
    "                PennyLane Demo, October 7, 2024.</a></li>\n",
    "            <li><a href = \"https://docs.pennylane.ai/en/stable/code/api/pennylane.qnn.TorchLayer.html\" target=\"_blank\">PennyLane, \"qml.qnn.TorchLayer\",<br>\n",
    "                PennyLane Documentation, Code API, 2025.</a></li>\n",
    "            <li><a href = \"https://pennylane.ai/qml/demos/tutorial_local_cost_functions\" target=\"_blank\">Thomas Storwick, \"Alleviating barren plateaus with local cost functions\",<br>\n",
    "                PennyLane Tutorial, November 6, 2024.</a></li>\n",
    "            </ul>\n",
    "        </td>\n",
    "    </tr>\n",
    "    <tr><td><strong>License:</strong></td>\n",
    "        <td>This project is licensed under the\n",
    "            <a href=\"https://www.gnu.org/licenses/gpl-3.0.en.html\" target=\"_blank\">GNU General Public License v3</a></td></tr>\n",
    "    <tr><td><strong>Changes:</strong></td>\n",
    "        <td>All significant changes to this code must be recorded in this notebook</td></tr>\n",
    "</table>"
   ]
  },
  {
   "cell_type": "markdown",
   "id": "5715a135-8768-4fac-9373-072ffd8039a1",
   "metadata": {},
   "source": [
    "## Libraries"
   ]
  },
  {
   "cell_type": "code",
   "execution_count": 2,
   "id": "7c92610b-6d3a-45cb-9c29-487523799255",
   "metadata": {},
   "outputs": [
    {
     "data": {
      "text/plain": [
       "['/home/jacob/miniconda3/envs/pl_test/lib/python311.zip',\n",
       " '/home/jacob/miniconda3/envs/pl_test/lib/python3.11',\n",
       " '/home/jacob/miniconda3/envs/pl_test/lib/python3.11/lib-dynload',\n",
       " '',\n",
       " '/home/jacob/miniconda3/envs/pl_test/lib/python3.11/site-packages',\n",
       " '.',\n",
       " '..']"
      ]
     },
     "execution_count": 2,
     "metadata": {},
     "output_type": "execute_result"
    }
   ],
   "source": [
    "import sys\n",
    "sys.path.append('.')\n",
    "sys.path.append('..')\n",
    "sys.path"
   ]
  },
  {
   "cell_type": "code",
   "execution_count": 3,
   "id": "e4a6dcc2-2992-43ea-9ce7-925124df72bb",
   "metadata": {},
   "outputs": [],
   "source": [
    "### General libraries\n",
    "\n",
    "import os\n",
    "import pylab\n",
    "import math\n",
    "import time\n",
    "import copy\n",
    "import pandas as pd\n",
    "from IPython.display import clear_output\n",
    "\n",
    "import matplotlib.pyplot as plt\n",
    "from matplotlib import set_loglevel\n",
    "set_loglevel(\"warning\")\n",
    "\n",
    "import warnings\n",
    "warnings.filterwarnings(\"ignore\")\n",
    "\n",
    "%matplotlib inline"
   ]
  },
  {
   "cell_type": "code",
   "execution_count": 4,
   "id": "d7369b15-1a33-4e1c-ba8b-11dcae8d5650",
   "metadata": {},
   "outputs": [],
   "source": [
    "### Utilities\n",
    "\n",
    "from utilities import multi_plot_hist, multi_plot_series, draw_circuit"
   ]
  },
  {
   "cell_type": "code",
   "execution_count": 5,
   "id": "b249a121-1820-45dd-821f-9eaa92f14bed",
   "metadata": {},
   "outputs": [],
   "source": [
    "### ML packages\n",
    "\n",
    "from sklearn.preprocessing import StandardScaler, MinMaxScaler\n",
    "from sklearn.feature_selection import SelectKBest, chi2, f_classif\n",
    "from sklearn.model_selection import train_test_split"
   ]
  },
  {
   "cell_type": "code",
   "execution_count": 6,
   "id": "48b72711-f1e8-4db4-a8cb-b8edbcb30a4e",
   "metadata": {},
   "outputs": [],
   "source": [
    "### PennyLane and Torch packages\n",
    "\n",
    "import pennylane as qml\n",
    "from pennylane import numpy as np\n",
    "from pennylane import NesterovMomentumOptimizer\n",
    "from torch import nn, optim, sigmoid, softmax\n",
    "from torch.autograd import Variable\n",
    "import torch"
   ]
  },
  {
   "cell_type": "markdown",
   "id": "89bcfa81-0192-4b65-b7a6-a50c4c9184a7",
   "metadata": {},
   "source": [
    "---"
   ]
  },
  {
   "cell_type": "markdown",
   "id": "c14d8243-f35f-4289-ba52-58c59e0634ba",
   "metadata": {},
   "source": [
    "## <font color=\"blue\">Data preparation</font>\n",
    "Selected dataset: <a href=\"https://archive.ics.uci.edu/dataset/10/automobile\" target=\"_blank\">Automobiles</a>."
   ]
  },
  {
   "cell_type": "code",
   "execution_count": 7,
   "id": "6b08879d-cc3b-4b7b-972a-d60c2e2117d8",
   "metadata": {},
   "outputs": [],
   "source": [
    "### Dataset settings\n",
    "#   How many data features we'd like to keep (compressed)\n",
    "n_features = 5\n",
    "data_seed = 42"
   ]
  },
  {
   "cell_type": "markdown",
   "id": "e0b9e70b-5fcb-4930-8f82-f3d485271ee0",
   "metadata": {},
   "source": [
    "### Load and understand data"
   ]
  },
  {
   "cell_type": "code",
   "execution_count": 8,
   "id": "05ab86be-f486-46ca-b35b-3673906f2cff",
   "metadata": {},
   "outputs": [
    {
     "data": {
      "text/plain": [
       "Index(['price', 'highway-mpg', 'city-mpg', 'peak-rpm', 'horsepower',\n",
       "       'compression-ratio', 'stroke', 'bore', 'fuel-system', 'engine-size',\n",
       "       'num-of-cylinders', 'engine-type', 'curb-weight', 'height', 'width',\n",
       "       'length', 'wheel-base', 'engine-location', 'drive-wheels', 'body-style',\n",
       "       'num-of-doors', 'aspiration', 'fuel-type', 'make', 'normalized-losses'],\n",
       "      dtype='object')"
      ]
     },
     "execution_count": 8,
     "metadata": {},
     "output_type": "execute_result"
    }
   ],
   "source": [
    "from ucimlrepo import fetch_ucirepo\n",
    "\n",
    "auto = fetch_ucirepo(id=10)\n",
    "X_vars = auto.data.features \n",
    "y_class = auto.data.targets\n",
    "X_vars.columns"
   ]
  },
  {
   "cell_type": "markdown",
   "id": "d3a1e9dd-ac0b-4f85-a868-5f6b5c72ab74",
   "metadata": {},
   "source": [
    "### Preprocess data"
   ]
  },
  {
   "cell_type": "code",
   "execution_count": 9,
   "id": "a1900ab3-ab69-40ff-80fe-f44607feaae4",
   "metadata": {},
   "outputs": [],
   "source": [
    "### Shuffle X and y together\n",
    "np.random.seed(data_seed)\n",
    "idx = np.random.permutation(X_vars.index)\n",
    "X_vars = X_vars.reindex(idx)\n",
    "X_vars.index = list(range(X_vars.shape[0]))\n",
    "y_class = y_class.reindex(idx)\n",
    "y_class.index = list(range(y_class.shape[0]))\n",
    "\n",
    "### Select numerical columns only!\n",
    "#   Note: we could have one-hot encoded categorical\n",
    "X_sel = X_vars.select_dtypes(include=np.number)\n",
    "\n",
    "### Eliminate missing values with column mean\n",
    "auto_xmean = X_sel.mean()\n",
    "X_sel = X_sel.fillna(auto_xmean)\n",
    "\n",
    "# Standardise all variables\n",
    "auto_scaler = MinMaxScaler(feature_range=(0, 1)) \n",
    "scaled = auto_scaler.fit_transform(X_sel) \n",
    "X_std = pd.DataFrame(scaled, columns=X_sel.columns)"
   ]
  },
  {
   "cell_type": "code",
   "execution_count": 10,
   "id": "aa78c3e7-6291-4ad5-a016-195138c22aed",
   "metadata": {},
   "outputs": [
    {
     "data": {
      "image/png": "[encoded data removed]",
      "text/plain": [
       "<Figure size 500x300 with 2 Axes>"
      ]
     },
     "metadata": {},
     "output_type": "display_data"
    }
   ],
   "source": [
    "### Transform the label from multinomial to binomial\n",
    "\n",
    "# Current label mean\n",
    "auto_ymean = y_class[\"symboling\"].mean()\n",
    "\n",
    "# Create a binary label\n",
    "pd.set_option('display.max_rows', 10)\n",
    "y_std = pd.DataFrame(y_class)\n",
    "y_std['symboling'] = np.where(y_std['symboling'] > auto_ymean, 1, 0)\n",
    "y_binmean = y_std[\"symboling\"].mean()\n",
    "\n",
    "# Plot both distributions\n",
    "plt.rcParams[\"figure.figsize\"] = [5, 3]\n",
    "fig, axs = plt.subplots(1, 2, sharey=True, tight_layout=True)\n",
    "\n",
    "axs[0].hist(y_class[\"symboling\"], bins=6, color='skyblue')\n",
    "axs[0].set_title(f'Multi (mean={round(auto_ymean, 3)})')\n",
    "axs[0].axvline(auto_ymean, color='k', linestyle='-.', linewidth=0.5)\n",
    "axs[1].hist(y_std['symboling'], bins=2, color='lightsalmon')\n",
    "axs[1].set_title(f'Binary (mean={np.round(y_binmean, 3)})')\n",
    "axs[1].axvline(y_binmean, color='k', linestyle='-.', linewidth=0.5)\n",
    "\n",
    "plt.show()"
   ]
  },
  {
   "cell_type": "markdown",
   "id": "a04ca9f3-bb92-4130-b850-077ce7beacd8",
   "metadata": {},
   "source": [
    "### Reduce data dimensionality\n",
    "**Feature selection** based on PCA"
   ]
  },
  {
   "cell_type": "code",
   "execution_count": 11,
   "id": "80577c62-0a8b-43bc-9c42-dd7bf9a34975",
   "metadata": {},
   "outputs": [
    {
     "name": "stdout",
     "output_type": "stream",
     "text": [
      "Explained var = 0.869\n"
     ]
    },
    {
     "data": {
      "text/plain": [
       "Index(['PC00', 'PC01', 'PC02', 'PC03', 'PC04'], dtype='object')"
      ]
     },
     "execution_count": 11,
     "metadata": {},
     "output_type": "execute_result"
    }
   ],
   "source": [
    "from sklearn.decomposition import PCA\n",
    "\n",
    "n_components = n_features\n",
    "auto_pca = PCA(n_components=n_components)\n",
    "X_pca = auto_pca.fit_transform(X_std)\n",
    "X_pca = pd.DataFrame(X_pca, columns=[f'PC{n:02d}' for n in range(X_pca.shape[1])])\n",
    "pca_var = auto_pca.explained_variance_ratio_\n",
    "print(f'Explained var = {np.sum(pca_var):02.3f}')\n",
    "X_pca.columns"
   ]
  },
  {
   "cell_type": "markdown",
   "id": "cc2551d2-16ea-4cb7-8e9a-de3c5feb3634",
   "metadata": {},
   "source": [
    "**Variable selection** X, y data for moedling"
   ]
  },
  {
   "cell_type": "code",
   "execution_count": 12,
   "id": "5a6274d0-9972-4c68-bc70-88441aaeb288",
   "metadata": {},
   "outputs": [],
   "source": [
    "X = X_pca.copy()\n",
    "y = y_std.copy()"
   ]
  },
  {
   "cell_type": "markdown",
   "id": "f053971e-5253-40b4-8ab9-41a5a899ec9c",
   "metadata": {},
   "source": [
    "---"
   ]
  },
  {
   "cell_type": "markdown",
   "id": "a0496662-aff5-44ff-924a-454dd83bd9b3",
   "metadata": {},
   "source": [
    "## <font color=\"blue\">Model development</font>"
   ]
  },
  {
   "cell_type": "markdown",
   "id": "54049a56-ca11-4d56-b631-cb264b7f6bcf",
   "metadata": {},
   "source": [
    "### Model and training configuration"
   ]
  },
  {
   "cell_type": "code",
   "execution_count": 13,
   "id": "62417a58-2c54-425e-88c3-f00b9c321815",
   "metadata": {},
   "outputs": [],
   "source": [
    "### Data params\n",
    "n_data = X.shape[0]\n",
    "x_angle_margin = 0.0               # Could be: 0.1\n",
    "x_angle_min = 0+x_angle_margin     # We leave it as is\n",
    "x_angle_max = 1-x_angle_margin     # Could be: np.pi-x_angle_margin\n",
    "\n",
    "### Architectural params\n",
    "n_wires = n_features  # The model ansatz may have less data than wires\n",
    "n_layers = 5\n",
    "wires = list(range(n_wires))\n",
    "\n",
    "### Training params\n",
    "epochs = 100     # 20 for LBFGS # 50 # 80 # 100 # 300\n",
    "log_interv = 1   # History to be saved only once every interv or epochs\n",
    "acc_prec = 0.5   # Precision of accuracy calculation\n",
    "shots = None     # None means using theoretical frequency distribution \n",
    "seed = 2025"
   ]
  },
  {
   "cell_type": "code",
   "execution_count": 14,
   "id": "42e2f1bb-5b1f-4b71-982f-c34128a57e73",
   "metadata": {},
   "outputs": [
    {
     "data": {
      "text/plain": [
       "(205, 5, 5, 100, None)"
      ]
     },
     "execution_count": 14,
     "metadata": {},
     "output_type": "execute_result"
    }
   ],
   "source": [
    "(n_data, n_wires, n_layers, epochs, shots)"
   ]
  },
  {
   "cell_type": "markdown",
   "id": "73ec48d2-3ce8-4be3-97eb-990b2d18437a",
   "metadata": {},
   "source": [
    "### Data preparation for quantum modeling\n",
    "We can experiment with encoding ranges to see which is best"
   ]
  },
  {
   "cell_type": "code",
   "execution_count": 15,
   "id": "7e5e4fea-5578-455c-8f09-bba4200e6f39",
   "metadata": {},
   "outputs": [],
   "source": [
    "### Standardise X values to Rxyz angles\n",
    "angle_scaler = MinMaxScaler(feature_range=(x_angle_min, x_angle_max)) \n",
    "scaled = angle_scaler.fit_transform(X) \n",
    "X_ang = pd.DataFrame(scaled, columns=X.columns)"
   ]
  },
  {
   "cell_type": "code",
   "execution_count": 16,
   "id": "71a7697f-5dea-4676-986c-6cf163bad4d7",
   "metadata": {},
   "outputs": [
    {
     "name": "stdout",
     "output_type": "stream",
     "text": [
      "Shapes: X_train=(137, 5), X_test=(68, 5), y_train=(137, 1), y_test=(68, 1)\n"
     ]
    }
   ],
   "source": [
    "### Create data partitions, data has been shuffled before\n",
    "X_train, X_test, y_train, y_test = train_test_split(X_ang.iloc[:,0:n_data], y.iloc[:,0:n_data], \n",
    "    test_size=0.33, shuffle=False, random_state=seed)\n",
    "print(f'Shapes: X_train={X_train.shape}, X_test={X_test.shape}, ' +\\\n",
    "      f'y_train={y_train.shape}, y_test={y_test.shape}')"
   ]
  },
  {
   "cell_type": "code",
   "execution_count": 17,
   "id": "3bd232ba-e7ab-4ba0-bcd9-4d28fb1ac4d4",
   "metadata": {},
   "outputs": [],
   "source": [
    "### Change data to tensors\n",
    "X_train_tens = torch.tensor(np.array(X_train), dtype=torch.double)\n",
    "y_train_tens = torch.tensor(np.array(y_train), dtype=torch.double)\n",
    "X_test_tens  = torch.tensor(np.array(X_test), dtype=torch.double)\n",
    "y_test_tens  = torch.tensor(np.array(y_test), dtype=torch.double)"
   ]
  },
  {
   "cell_type": "markdown",
   "id": "cb56c203-2865-4b9d-a538-8fbbd48a00b4",
   "metadata": {},
   "source": [
    "### Utilities"
   ]
  },
  {
   "cell_type": "code",
   "execution_count": 18,
   "id": "e6a5e3f9-0150-4cbe-b8ad-2f9d6bab54c5",
   "metadata": {},
   "outputs": [],
   "source": [
    "### Performance measures\n",
    "\n",
    "### A simple differentiable MSE cost function\n",
    "def square_mse(labels, predictions):\n",
    "    sq_diffs = torch.tensor([(l - p)**2 for l, p in zip(labels, predictions)])\n",
    "    return sq_diffs.mean().item()\n",
    "\n",
    "### A simple differentiable accuracy\n",
    "def accuracy(labels, predictions, prec=1e-5):\n",
    "    acc = sum(abs(l - p) < prec for l, p in zip(labels, predictions))\n",
    "    acc = acc / len(labels)\n",
    "    return acc.item()\n",
    "\n",
    "### Counts the number of pytorch model parameters\n",
    "def count_params(model):\n",
    "    return sum(p.numel() for p in model.parameters() if p.requires_grad)"
   ]
  },
  {
   "cell_type": "markdown",
   "id": "2d889de9-4ec1-4ccd-80ed-1adf9f6f3ab8",
   "metadata": {},
   "source": [
    "### Define devices"
   ]
  },
  {
   "cell_type": "code",
   "execution_count": 19,
   "id": "b8e37dda-85ae-46f8-805a-a9c48e7bb74e",
   "metadata": {},
   "outputs": [
    {
     "name": "stdout",
     "output_type": "stream",
     "text": [
      "\n",
      "The available devices:\tdefault.qubit and cpu\n",
      "Devices to be used:\tdefault.qubit and cpu\n",
      "\n"
     ]
    }
   ],
   "source": [
    "### Find and select devices for PL and PyTorch\n",
    "\n",
    "# Quantum simulator\n",
    "sim = 'default.qubit' # default.qubit lightning.qubit lightning.gpu\n",
    "\n",
    "# Enable GPU device if available\n",
    "if torch.cuda.is_available():   # for Linux / Windows with GPU\n",
    "    torch_device = 'cuda'\n",
    "elif torch.mps.is_available():  # for Mac with GPU\n",
    "    torch_device = 'mps'\n",
    "else:\n",
    "    torch_device = 'cpu'        # for everybody else\n",
    "torch_device = \"cpu\"            # Force CPU if needed\n",
    "\n",
    "print(f'\\nThe available devices:\\t{sim} and {torch_device}')\n",
    "print(f'Devices to be used:\\t{sim} and {torch_device}\\n')"
   ]
  },
  {
   "cell_type": "markdown",
   "id": "ed9f235f-17d4-4773-8511-ce207f125105",
   "metadata": {},
   "source": [
    "### PennyLane model development"
   ]
  },
  {
   "cell_type": "code",
   "execution_count": 20,
   "id": "d0e5ebf3-0818-475a-88c8-f3546420bfbf",
   "metadata": {},
   "outputs": [],
   "source": [
    "### Define a simple quantum model\n",
    "def qmodel(n_wires):\n",
    "    wires = list(range(n_wires))\n",
    "    def _qmodel(inputs, weights):\n",
    "        nonlocal wires, n_wires #, meas_wires\n",
    "        qml.AngleEmbedding(inputs, wires=wires)        \n",
    "        qml.StronglyEntanglingLayers(weights, wires=wires)\n",
    "        return [qml.expval(qml.PauliZ(0))] # Range [-1..1] - as needed by MSELoss\n",
    "    return _qmodel"
   ]
  },
  {
   "cell_type": "code",
   "execution_count": 21,
   "id": "9cf809bb-1393-4949-a3c0-a6f243c67524",
   "metadata": {},
   "outputs": [],
   "source": [
    "### Check the model shape\n",
    "def qshape(n_wires, n_layers=1):\n",
    "    shape = qml.StronglyEntanglingLayers.shape(n_layers=n_layers, n_wires=n_wires)\n",
    "    return shape"
   ]
  },
  {
   "cell_type": "markdown",
   "id": "fd7e84f7-ba14-4893-a5c1-e967db699024",
   "metadata": {},
   "source": [
    "### PyTorch model with PennyLane layer"
   ]
  },
  {
   "cell_type": "code",
   "execution_count": 22,
   "id": "1ef3ddf1-b22c-4a6e-890d-ec036ee31aa1",
   "metadata": {},
   "outputs": [],
   "source": [
    "import pennylane as qml\n",
    "from pennylane import numpy as np"
   ]
  },
  {
   "cell_type": "markdown",
   "id": "521e4402-a9c7-4055-8d3d-05e5e11ffa21",
   "metadata": {},
   "source": [
    "To use PennyLane Torch layers refer to the \n",
    "<a href=\"https://docs.pennylane.ai/en/stable/code/api/pennylane.qnn.TorchLayer.html\" target=\"_blank\">TorchLayer PennyLane API</a>\n",
    "as well as <a href = \"https://pennylane.ai/qml/demos/tutorial_qnn_module_torch\" target=\"_blank\">Thomas Bromley tute on Torch layers</a>."
   ]
  },
  {
   "cell_type": "code",
   "execution_count": 23,
   "id": "222fe23f-0a5b-4d7b-969c-39b9f6cbdad3",
   "metadata": {},
   "outputs": [],
   "source": [
    "##### Custom PyTorch/PennyLane module for logistic regression\n",
    "class LogisticRegression(torch.nn.Module):\n",
    "    \"\"\" \n",
    "    Implementation of the hybrid quantum-classical logistic regression\n",
    "    Parameters:\n",
    "    - sim: name of a PennyLane device\n",
    "    - n_wires: number of wires for the quantum model (= qubits/features)\n",
    "    - n_layers: number of trainable entangling layers\n",
    "    - shots: number of shots per quantum execution\n",
    "      if None, then theoretical outcome if calculated\n",
    "    Result:\n",
    "    - PyTorch model\n",
    "    \"\"\"\n",
    "    \n",
    "    ### build the constructor\n",
    "    def __init__(self, sim, n_wires, n_layers=1, shots=None):\n",
    "        super().__init__()\n",
    "        \n",
    "        self.sim = sim\n",
    "        self.n_wires = n_wires\n",
    "        self.n_layers = n_layers\n",
    "        self.shots = shots\n",
    "\n",
    "        layers = [self.qlayer()]\n",
    "        self.model = torch.nn.Sequential(*layers)\n",
    "        \n",
    "    ### PyTorch layer around the PennyLane model\n",
    "    def qlayer(self):\n",
    "        \n",
    "        # Specify a device\n",
    "        dev = qml.device(self.sim, wires=self.n_wires, shots=self.shots)\n",
    "\n",
    "        # Define the quantum model and its circuit (or node, save it for later)\n",
    "        model_pl = qmodel(self.n_wires)\n",
    "        self.model_qc = qml.QNode(model_pl, dev, interface='torch')\n",
    "\n",
    "        # Define the shape of the model weight parameters\n",
    "        # Note that the name \"weights\" must match the param name defined in function \n",
    "        # \"model_pl\" which in our case is _qmodel(inputs, weights)\n",
    "        weights_shapes = {\"weights\": qshape(self.n_wires, n_layers=self.n_layers)}\n",
    "\n",
    "        # Turn the circuit into a Torch-compatible quantum layer\n",
    "        qlayer = qml.qnn.TorchLayer(self.model_qc, weight_shapes=weights_shapes)\n",
    "        return qlayer\n",
    "\n",
    "    ### Overkill model\n",
    "    def easter_egg_layers(self):\n",
    "        lin1 = torch.nn.Linear(self.n_wires, 32)\n",
    "        relu1 = torch.nn.ReLU()\n",
    "        lin2 = torch.nn.Linear(32, 64)\n",
    "        relu2 = torch.nn.ReLU()\n",
    "        lin3 = torch.nn.Linear(64, 32)\n",
    "        relu3 = torch.nn.ReLU()\n",
    "        lin4 = torch.nn.Linear(32, self.n_wires)\n",
    "        relu4 = torch.nn.ReLU()\n",
    "        qmodel = self.qlayer()\n",
    "        lin5 = torch.nn.Linear(2, 1)\n",
    "        layers = [lin1, relu1, lin2, relu2,\n",
    "                  lin3, relu3, lin4, relu4,\n",
    "                  qmodel]\n",
    "        return layers\n",
    "\n",
    "    ### Return the quantum model circuit\n",
    "    def qmodel_qc(self):\n",
    "        return self.model_qc\n",
    " \n",
    "    ### Make predictions\n",
    "    def forward(self, x):\n",
    "        y_pred = self.model(x)            # returns predictions           \n",
    "        return y_pred"
   ]
  },
  {
   "cell_type": "markdown",
   "id": "5cb64ee8-fde7-4c46-8322-9a424e327352",
   "metadata": {},
   "source": [
    "### Test the PennyLane/PyTorch model before use\n",
    "For some reason PennyLane crashes whan lighting.qubits is in use"
   ]
  },
  {
   "cell_type": "code",
   "execution_count": 24,
   "id": "7b94b91e-ea7a-4384-bbea-f8dd50e63f75",
   "metadata": {},
   "outputs": [
    {
     "data": {
      "text/plain": [
       "('default.qubit', 5, 5, None)"
      ]
     },
     "execution_count": 24,
     "metadata": {},
     "output_type": "execute_result"
    }
   ],
   "source": [
    "(sim, n_wires, n_layers, shots)"
   ]
  },
  {
   "cell_type": "code",
   "execution_count": 25,
   "id": "f698c5e5-b6d8-41de-b3ca-56dd20cb1bd5",
   "metadata": {},
   "outputs": [
    {
     "name": "stdout",
     "output_type": "stream",
     "text": [
      "\n",
      "QM weights: 75, Epochs: 100\n",
      "\n",
      "Inputs:\n",
      "tensor([[0.7715, 0.4629, 0.0764, 0.2773, 0.4974],\n",
      "        [0.3302, 0.3859, 0.1615, 0.3242, 0.6821],\n",
      "        [0.5645, 0.8158, 0.1465, 0.3517, 0.4953],\n",
      "        [0.3445, 0.4707, 0.3380, 0.6240, 0.7969],\n",
      "        [0.8883, 0.5390, 0.8176, 0.3153, 0.6299]], dtype=torch.float64)\n",
      "\n",
      "\n",
      "Labels:\n",
      "tensor([[0.],\n",
      "        [0.],\n",
      "        [0.],\n",
      "        [1.],\n",
      "        [0.]], dtype=torch.float64)\n",
      "\n",
      "\n",
      "Test results:\n",
      "tensor([[-0.0271],\n",
      "        [-0.0419],\n",
      "        [ 0.0262],\n",
      "        [ 0.0087],\n",
      "        [-0.0399]], dtype=torch.float64, grad_fn=<ViewBackward0>)\n",
      "\n"
     ]
    },
    {
     "data": {
      "text/plain": [
       "LogisticRegression(\n",
       "  (model): Sequential(\n",
       "    (0): <Quantum Torch Layer: func=_qmodel>\n",
       "  )\n",
       ")"
      ]
     },
     "execution_count": 25,
     "metadata": {},
     "output_type": "execute_result"
    }
   ],
   "source": [
    "test = LogisticRegression(sim, n_wires, n_layers=n_layers, shots=shots).double().to(torch_device)\n",
    "shape = qshape(n_wires, n_layers)\n",
    "n_weights = np.prod(shape)\n",
    "test_results = test(X_train_tens[0:5])\n",
    "print(f'\\nQM weights: {count_params(test)}, Epochs: {epochs}')\n",
    "print(f'\\nInputs:\\n{X_train_tens[0:5]}\\n')\n",
    "print(f'\\nLabels:\\n{y_train_tens[0:5]}\\n')\n",
    "print(f'\\nTest results:\\n{test_results}\\n')\n",
    "\n",
    "test.eval()"
   ]
  },
  {
   "cell_type": "code",
   "execution_count": 26,
   "id": "91eb9940-785e-45ef-a249-2da747b798fc",
   "metadata": {},
   "outputs": [
    {
     "data": {
      "image/png": "[encoded data removed]",
      "text/plain": [
       "<Figure size 1600x300 with 1 Axes>"
      ]
     },
     "metadata": {},
     "output_type": "display_data"
    }
   ],
   "source": [
    "### Draw the test model circuit\n",
    "weights = torch.rand(shape, requires_grad=True)\n",
    "draw_circuit(test.qmodel_qc(), scale=0.5, title='Quantum circuit to be used in this notebook', level='device') \\\n",
    "    (X_train_tens[0], weights) # level='device'/'gradient'"
   ]
  },
  {
   "cell_type": "markdown",
   "id": "d1fc3801-89f0-4f1e-a479-0dc9e9c9aa25",
   "metadata": {},
   "source": [
    "### Create and train a the PennyLane/PyTorch model"
   ]
  },
  {
   "cell_type": "code",
   "execution_count": 27,
   "id": "e1e1761f-d3cf-484f-a7ed-e44f6a788299",
   "metadata": {},
   "outputs": [],
   "source": [
    "## Optional for simple gradient optimisers, such as Adam\n",
    "## Required by optimisers with internal steps, such as LBFGS\n",
    "## Works for both types of optimisers\n",
    "def make_closure(X, Y, model, optimizer, lossfun):\n",
    "    def _closure():\n",
    "        nonlocal X, Y, model, optimizer, lossfun\n",
    "        if torch.is_grad_enabled():\n",
    "            optimizer.zero_grad()\n",
    "        output = model(X)\n",
    "        loss = lossfun(output, Y)\n",
    "        if loss.requires_grad:\n",
    "            loss.backward()\n",
    "        return loss\n",
    "    return _closure"
   ]
  },
  {
   "cell_type": "code",
   "execution_count": 28,
   "id": "8e9a647b-8431-488d-8bcb-fbbb8d788ee5",
   "metadata": {},
   "outputs": [],
   "source": [
    "### Trains a PyTorch model (of any kind)\n",
    "\n",
    "def train_model(model, X, y, cost_fun, acc_fun, optimizer, epochs=20, \n",
    "                log_interv=100, prompt_fract=0.1, acc_prec=0.5, start_time=0):\n",
    "    \n",
    "    history = []\n",
    "    acc_hist = []\n",
    "    opt_params = {}\n",
    "    hist_params = []\n",
    "    min_epoch = 0\n",
    "    min_cost = float(np.inf)\n",
    "    max_acc = -float(np.inf)\n",
    "    if start_time == 0: start_time = time.time()\n",
    "    \n",
    "    model.train()\n",
    "    for epoch in range(epochs):\n",
    "        \n",
    "        optimizer.zero_grad()\n",
    "        output = model(X)\n",
    "        cost = cost_fun(output, y)\n",
    "        acc = acc_fun(output, y, prec=acc_prec)\n",
    "        cost.backward()\n",
    "        optimizer.step()\n",
    "\n",
    "        curr_cost = cost.item()\n",
    "        curr_acc = acc\n",
    "        if curr_cost < min_cost: \n",
    "            min_cost = curr_cost\n",
    "            min_epoch = epoch\n",
    "            opt_params = copy.deepcopy(model.state_dict())\n",
    "\n",
    "        if curr_acc > max_acc:\n",
    "            max_acc = curr_acc\n",
    "\n",
    "        if epoch % log_interv == 0:\n",
    "            history.append(curr_cost)\n",
    "            acc_hist.append(curr_acc)\n",
    "            hist_params.append(copy.deepcopy(model.state_dict()))\n",
    "\n",
    "        elapsed = time.time() - start_time\n",
    "        if (prompt_fract == 0) or (epoch % int(prompt_fract*epochs) == 0):\n",
    "            print(f'{epoch: 5d} '+ \\\n",
    "                  f'({elapsed:06.0f} sec): '+ \\\n",
    "                  f'Cost {curr_cost:6.4g}   '+ \\\n",
    "                  f'Acc {curr_acc:6.4g}')\n",
    "            \n",
    "    return history, acc_hist, opt_params, hist_params, (min_epoch, min_cost)"
   ]
  },
  {
   "cell_type": "markdown",
   "id": "cb0c79a3-14ce-4ac0-b7f0-f6ec358e271b",
   "metadata": {},
   "source": [
    "### Training loop"
   ]
  },
  {
   "cell_type": "code",
   "execution_count": 29,
   "id": "b87df9a5-21a3-4559-b524-291e560fa878",
   "metadata": {},
   "outputs": [
    {
     "name": "stdout",
     "output_type": "stream",
     "text": [
      "\n",
      "    0 (000000 sec): Cost 0.4735   Acc 0.4453\n",
      "   10 (000000 sec): Cost 0.2602   Acc 0.4745\n",
      "   20 (000000 sec): Cost 0.2277   Acc 0.6131\n",
      "   30 (000000 sec): Cost 0.2077   Acc 0.7956\n",
      "   40 (000001 sec): Cost 0.1943   Acc 0.8394\n",
      "   50 (000001 sec): Cost 0.1845   Acc 0.8248\n",
      "   60 (000001 sec): Cost 0.1773   Acc 0.8467\n",
      "   70 (000001 sec): Cost  0.172   Acc 0.8394\n",
      "   80 (000001 sec): Cost 0.1677   Acc 0.8394\n",
      "   90 (000001 sec): Cost 0.1639   Acc 0.8613\n",
      "\n",
      "Training completed:\n",
      "\tin 100 epochs and 2sec (00:00:01)\n",
      "Training scores:\n",
      "\tmin BCE = 0.1608 @ 0099\n",
      "\tmax ACC = 0.8686 @ 0097\n",
      "\n"
     ]
    }
   ],
   "source": [
    "### Ensure repeatability\n",
    "torch.manual_seed(seed)\n",
    "torch.cuda.manual_seed(seed)\n",
    "torch.backends.cudnn.deterministic = True\n",
    "torch.backends.cudnn.benchmark = False\n",
    "\n",
    "### Create a model\n",
    "log_regr = LogisticRegression(sim, n_wires, n_layers, shots).double().to(torch_device)\n",
    "\n",
    "### Loss and optimiser\n",
    "cost_fun = nn.MSELoss() # for prediction values\n",
    "opt = optim.NAdam(log_regr.parameters(), lr=0.01)\n",
    "\n",
    "### Train the model\n",
    "print()\n",
    "\n",
    "prompt_fract = 0.1\n",
    "start_time = time.time()\n",
    "train_bce_hist, train_acc_hist, opt_params, hist_params, opt_point = \\\n",
    "    train_model(log_regr, X_train_tens, y_train_tens, \n",
    "                cost_fun, accuracy, opt, epochs=epochs, acc_prec=acc_prec, \n",
    "                log_interv=log_interv, prompt_fract=prompt_fract)\n",
    "\n",
    "elapsed = time.time() - start_time\n",
    "\n",
    "### Print the training summary\n",
    "train_bce_min = np.min(train_bce_hist)\n",
    "train_bce_iter = np.argmin(train_bce_hist)\n",
    "train_acc_max = np.max(train_acc_hist)\n",
    "train_acc_iter = np.argmax(train_acc_hist)\n",
    "\n",
    "time_str = time.strftime(\"%H:%M:%S\", time.gmtime(elapsed))\n",
    "print(f'\\nTraining completed:\\n'+\\\n",
    "      f'\\tin {epochs} epochs and {elapsed:0.0f}sec ({time_str})\\n'+\n",
    "      f'Training scores:\\n'+\n",
    "      f'\\tmin BCE = {np.round(train_bce_min, 5):05.4f} @ {train_bce_iter:04d}\\n'+\n",
    "      f'\\tmax ACC = {np.round(train_acc_max, 5):05.4f} @ {train_acc_iter:04d}\\n')"
   ]
  },
  {
   "cell_type": "markdown",
   "id": "64c25d36-3ba0-4e4f-a929-ff0407d0874f",
   "metadata": {},
   "source": [
    "### Calculate testing scores"
   ]
  },
  {
   "cell_type": "code",
   "execution_count": 30,
   "id": "9339c294-515e-47a2-9f40-bd152c0f6510",
   "metadata": {},
   "outputs": [],
   "source": [
    "### Calculate a model score as defined by the scoring function\n",
    "def score_model(model, params, X, y, score_fun, score_name='Score', score_min=True):\n",
    "\n",
    "    ### Initialise scoring\n",
    "    score_hist = []\n",
    "    min_mse_iter = -1\n",
    "    if score_min:\n",
    "        opt_score = float(np.inf)\n",
    "    else:\n",
    "        opt_score = -float(np.inf)\n",
    "    \n",
    "    ### Calculate scores\n",
    "    print()\n",
    "    for iter in range(len(hist_params)):\n",
    "        log_regr.load_state_dict(params[iter])\n",
    "        pred = log_regr(X)\n",
    "        curr_score = score_fun(pred, y)\n",
    "        if type(curr_score) is torch.Tensor:\n",
    "            curr_score = curr_score.item()\n",
    "        score_hist.append(curr_score)\n",
    "        if (not score_min and (curr_score > opt_score)) or \\\n",
    "           (score_min and (curr_score < opt_score)):\n",
    "            opt_score = curr_score\n",
    "            opt_score_iter = iter\n",
    "        if (prompt_fract == 0) or (iter % int(prompt_fract*epochs) == 0):\n",
    "            print(f'Iter#: {iter:3d} / {epochs:3d}, '+\n",
    "                  f'{score_name} = {curr_score:.6f}')\n",
    "    print()\n",
    "    return score_hist, opt_score, opt_score_iter"
   ]
  },
  {
   "cell_type": "code",
   "execution_count": 31,
   "id": "8e916377-63ef-4958-ac38-ae743fb1d354",
   "metadata": {},
   "outputs": [
    {
     "name": "stdout",
     "output_type": "stream",
     "text": [
      "\n",
      "Iter#:   0 / 100, Test Acc = 0.455882\n",
      "Iter#:  10 / 100, Test Acc = 0.514706\n",
      "Iter#:  20 / 100, Test Acc = 0.617647\n",
      "Iter#:  30 / 100, Test Acc = 0.764706\n",
      "Iter#:  40 / 100, Test Acc = 0.808824\n",
      "Iter#:  50 / 100, Test Acc = 0.838235\n",
      "Iter#:  60 / 100, Test Acc = 0.823529\n",
      "Iter#:  70 / 100, Test Acc = 0.808824\n",
      "Iter#:  80 / 100, Test Acc = 0.794118\n",
      "Iter#:  90 / 100, Test Acc = 0.794118\n",
      "\n",
      "\n",
      "Iter#:   0 / 100, Test BCE = 0.377653\n",
      "Iter#:  10 / 100, Test BCE = 0.244298\n",
      "Iter#:  20 / 100, Test BCE = 0.225874\n",
      "Iter#:  30 / 100, Test BCE = 0.212441\n",
      "Iter#:  40 / 100, Test BCE = 0.202545\n",
      "Iter#:  50 / 100, Test BCE = 0.194980\n",
      "Iter#:  60 / 100, Test BCE = 0.189620\n",
      "Iter#:  70 / 100, Test BCE = 0.185948\n",
      "Iter#:  80 / 100, Test BCE = 0.183362\n",
      "Iter#:  90 / 100, Test BCE = 0.181428\n",
      "\n"
     ]
    }
   ],
   "source": [
    "### Calculate testing BCE and Acc scores\n",
    "#   Note: training scores have already been calculated\n",
    "\n",
    "test_acc_hist, test_acc_max, test_acc_iter = \\\n",
    "    score_model(log_regr, hist_params, X_test_tens, y_test_tens, \n",
    "    lambda pred, targ: accuracy(pred, targ, prec=acc_prec), score_name='Test Acc', score_min=False)\n",
    "test_bce_hist, test_bce_min, test_bce_iter = \\\n",
    "    score_model(log_regr, hist_params, X_test_tens, y_test_tens, cost_fun, score_name='Test BCE', score_min=True)"
   ]
  },
  {
   "cell_type": "code",
   "execution_count": 32,
   "id": "e778d717-170f-4d9f-ba5c-8fc90f83f152",
   "metadata": {},
   "outputs": [
    {
     "name": "stdout",
     "output_type": "stream",
     "text": [
      "\n",
      "Completed calculation of testing scores\n",
      "\n",
      "Summary of model training run\n",
      "\n",
      "\tparams = 75, epochs = 100, time = 2sec (00:00:01)\n",
      "\ttraining: BCE = 0.1608 @ 0099, ACC = 0.8686 @ 0097\n",
      "\ttesting:  BCE = 0.1800 @ 0099, ACC = 0.8529 @ 0052\n",
      "\n"
     ]
    }
   ],
   "source": [
    "### Run summary\n",
    "time_str = time.strftime(\"%H:%M:%S\", time.gmtime(elapsed))\n",
    "print(f'\\nCompleted calculation of testing scores\\n\\nSummary of model training run\\n\\n\\t'+\n",
    "      f'params = {count_params(log_regr)}, '+\n",
    "      f'epochs = {epochs}, '+\n",
    "      f'time = {elapsed:0.0f}sec ({time_str})\\n\\t'+\n",
    "      f'training: BCE = {np.round(train_bce_min, 5):05.4f} @ {train_bce_iter:04d}, '+\n",
    "      f'ACC = {np.round(train_acc_max, 5):05.4f} @ {train_acc_iter:04d}\\n\\t'+\n",
    "      f'testing:  BCE = {np.round(test_bce_min, 5):05.4f} @ {test_bce_iter:04d}, '+\n",
    "      f'ACC = {np.round(test_acc_max, 5):05.4f} @ {test_acc_iter:04d}'+\n",
    "      f'\\n'\n",
    "     )"
   ]
  },
  {
   "cell_type": "markdown",
   "id": "5630b613-a635-42aa-8cfc-66df147f35bb",
   "metadata": {},
   "source": [
    "### Plot costs and scores"
   ]
  },
  {
   "cell_type": "code",
   "execution_count": 33,
   "id": "95c0feba-881a-46df-85e8-5d110eccced6",
   "metadata": {},
   "outputs": [
    {
     "data": {
      "image/png": "[encoded data removed]",
      "text/plain": [
       "<Figure size 1200x600 with 1 Axes>"
      ]
     },
     "metadata": {},
     "output_type": "display_data"
    }
   ],
   "source": [
    "train_label = f'Train: min BCE (cost) = {round(train_bce_min, 5):05.4f} @ {train_bce_iter:04d}'\n",
    "test_label =  f'Test:  min BCE (cost) = {round(test_bce_min, 5):05.4f} @ {test_bce_iter:04d}'\n",
    "multi_plot_series(\n",
    "    [train_bce_hist, test_bce_hist], X_list=[0, 0], labels=[train_label, test_label], \n",
    "    lines=['solid', 'dashed'], # colors=None, markers=None, marker_colors=None,\n",
    "    rcParams=(12, 6), xlabel='Training iterations', ylabel='BCE cost',\n",
    "    legend_cols=1, smooth_weight=0.6, title='Classifier training performance')"
   ]
  },
  {
   "cell_type": "code",
   "execution_count": 34,
   "id": "30ed0842-0499-4a65-995d-5e69df551dbb",
   "metadata": {},
   "outputs": [
    {
     "data": {
      "image/png": "[encoded data removed]",
      "text/plain": [
       "<Figure size 1200x600 with 1 Axes>"
      ]
     },
     "metadata": {},
     "output_type": "display_data"
    }
   ],
   "source": [
    "train_label = f'Train: max ACC = {round(train_acc_max, 5):05.4f} @ {train_acc_iter:04d}'\n",
    "test_label =  f'Test:  max ACC = {round(test_acc_max, 5):05.4f} @ {test_acc_iter:04d}'\n",
    "multi_plot_series(\n",
    "    [train_acc_hist, test_acc_hist], X_list=[0, 0], labels=[train_label, test_label], \n",
    "    lines=['solid', 'dashed'], ylim=(0.4, 1.05), # colors=None, markers=None, marker_colors=None,\n",
    "    rcParams=(12, 6), xlabel='Training iterations', ylabel='Accuracy',\n",
    "    legend_cols=1, smooth_weight=0.6, title='Classification of car insurance risk')"
   ]
  },
  {
   "cell_type": "markdown",
   "id": "772cdd4e-5ac1-461e-b293-12f99754e25f",
   "metadata": {},
   "source": [
    "---"
   ]
  },
  {
   "cell_type": "markdown",
   "id": "e8ea776d-ed69-45e7-b98d-94eddb993248",
   "metadata": {},
   "source": [
    "## Write your observations here\n",
    "\n",
    "- Task 1:\n",
    "- Task 2:\n",
    "- Task 3:\n",
    "- Task 4:\n",
    "- Task 5:\n",
    "- Challenge:\n",
    "- Reflection:"
   ]
  },
  {
   "cell_type": "markdown",
   "id": "f2c6c276-c691-4591-bc0b-58cc75c16445",
   "metadata": {},
   "source": [
    "## Software (Linux)"
   ]
  },
  {
   "cell_type": "code",
   "execution_count": 35,
   "id": "b7dd04a7-3c57-4aab-8b4d-337597353bcf",
   "metadata": {},
   "outputs": [
    {
     "name": "stdout",
     "output_type": "stream",
     "text": [
      "pennylane                 0.42.3\n",
      "pennylane_lightning       0.42.0\n",
      "torch                     2.8.0\n",
      "torchaudio                2.8.0\n",
      "torcheval                 0.0.7\n",
      "torchmetrics              1.8.2\n",
      "torchsummary              1.5.1\n",
      "torchvision               0.23.0\n"
     ]
    }
   ],
   "source": [
    "import os\n",
    "os.system('pip list | grep -e pennylane -e torch');"
   ]
  }
 ],
 "metadata": {
  "kernelspec": {
   "display_name": "Python 3 (ipykernel)",
   "language": "python",
   "name": "python3"
  },
  "language_info": {
   "codemirror_mode": {
    "name": "ipython",
    "version": 3
   },
   "file_extension": ".py",
   "mimetype": "text/x-python",
   "name": "python",
   "nbconvert_exporter": "python",
   "pygments_lexer": "ipython3",
   "version": "3.11.13"
  },
  "widgets": {
   "application/vnd.jupyter.widget-state+json": {
    "state": {},
    "version_major": 2,
    "version_minor": 0
   }
  }
 },
 "nbformat": 4,
 "nbformat_minor": 5
}
