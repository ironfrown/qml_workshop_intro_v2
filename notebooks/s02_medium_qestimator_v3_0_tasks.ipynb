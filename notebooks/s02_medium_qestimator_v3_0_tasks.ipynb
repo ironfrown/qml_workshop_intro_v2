{
 "cells": [
  {
   "cell_type": "markdown",
   "id": "2f6f1f0c-5b49-4def-81db-8f0e4c55d27b",
   "metadata": {},
   "source": [
    "*Do not delete this style setting*"
   ]
  },
  {
   "cell_type": "code",
   "execution_count": 1,
   "id": "a32a11ad-db82-438b-a99c-df1e23c62569",
   "metadata": {},
   "outputs": [
    {
     "data": {
      "text/html": [
       "<style>\n",
       "table {float:left}\n",
       "</style>\n"
      ],
      "text/plain": [
       "<IPython.core.display.HTML object>"
      ]
     },
     "metadata": {},
     "output_type": "display_data"
    }
   ],
   "source": [
    "%%html\n",
    "<style>\n",
    "table {float:left}\n",
    "</style>"
   ]
  },
  {
   "cell_type": "markdown",
   "id": "2bfc6bdc-f3a6-4fa5-937b-e40a1fcbcae9",
   "metadata": {},
   "source": [
    "# Session 2:<br>A Simple Quantum Estimator\n",
    "\n",
    "<table>\n",
    "    <tr><td><strong>Aim:</strong></td>\n",
    "        <td>To explore the creation and use of a simple quantum estimator in <strong>PennyLane</strong><br>\n",
    "            Note that \"simplicity\" is only in data and the model structure - not in the approach!</td></tr>\n",
    "    <tr><td><strong>Author:</strong></td>\n",
    "        <td>Jacob L. Cybulski (<a href=\"https://jacobcybulski.com/\" target=\"_blank\">website</a>),\n",
    "            <em>Enquanted</em></td></tr>\n",
    "    <tr><td><strong>Release:</strong></td>\n",
    "        <td>September 2025</td></tr>\n",
    "    <tr><td><strong>Datasets:</strong></td>\n",
    "        <td>We will use the following two data set generators from sklearn (code below):<br>\n",
    "            <ol><li>from sklearn.datasets import <strong><em>make_regression</em></strong> (Workshop)</li>\n",
    "                <li>from sklearn.datasets import <strong><em>make_swiss_roll</em></strong> or <br>\n",
    "                    from UCI repository download <strong><em><a href=\"https://archive.ics.uci.edu/dataset/477/real+estate+valuation+data+set\" target=\"_blank\">Real Estate Valuations</a></em></strong> dataset<br>(requires: ucimlrepo)</li>\n",
    "            </ol></td></tr>\n",
    "    <tr><td><strong>Tasks:</strong></td>\n",
    "        <td>40 minutes (unfinished tasks go to self-directed \"challenges\")</td></tr>\n",
    "    <tr>\n",
    "        <td></td>\n",
    "        <td>Perform the following tasks<br>(record your observations at end of this notebook):<br><ol>\n",
    "            <li>Initially use the <strong><em>Regression</em></strong> dataset 1 (as provided).<br>\n",
    "                Follow the instructor demonstration to step through the code.</li>\n",
    "            <li>Can you improve the selected model by:<br>\n",
    "                - changing entangling methods (basic_ent = False/True) ?<br>\n",
    "                - changing the number of qubits/wires ?<br>\n",
    "                - changing the number of training epochs ?<br>\n",
    "                - changing the optimiser ?<br>\n",
    "                Which of these changes had the greatest impact on performance?</li>\n",
    "            <li>Change data encoding by increasing the encoding margin.<br>\n",
    "                What was the impact of your change? Why do you think it happened ?</li>\n",
    "            <li>Calculate testing MSE and R2 scores.<br>\n",
    "                Follow the example of calculating training R2.</li>\n",
    "            <li>Create a plot of residuals for training and test predictions.<br>\n",
    "                Note that residuals are (expected-predicted) values.</li>\n",
    "            <li>Reflect on this session.</li>\n",
    "        </ol></td>\n",
    "    </tr>\n",
    "    <tr>\n",
    "        <td><strong>Challenge<br>Tasks:</strong></td>\n",
    "        <td>Perform the following tasks in your own time:<br/>\n",
    "        <ol style=\"list-style-type: upper-alpha;\">\n",
    "            <li>Complete the unfinished tasks.</li>\n",
    "            <li>Change the model by incorporating the reuploading ansatz (see Session 1).</li>\n",
    "            <li>Create a more insightful visualisation of residuals (research).</li>\n",
    "            <li>Apply your completed model to either of the following data sets:<br>\n",
    "                <strong><em>Real Estate Valuations</em></strong> or <strong><em>Swiss Roll</em></strong> (data set 2)<br> \n",
    "                - see examples at the end of the notebook<br>\n",
    "            </li>\n",
    "        </ol>\n",
    "        </td>\n",
    "    </tr>\n",
    "    <tr><td><strong>References:</strong></td>\n",
    "        <td><a href=\"https://www.youtube.com/watch?v=42aa-Ve5WmI\" target=\"_blank\">\n",
    "            Catalina Albornoz, \"Optimizing a quantum circuit with PennyLane\",<br>PennyLane Tutorial, YouTube Video, Sept 12, 2023.</a></td>\n",
    "    </tr>\n",
    "    <tr><td><strong>License:</strong></td>\n",
    "        <td>This project is licensed under the\n",
    "            <a href=\"https://www.gnu.org/licenses/gpl-3.0.en.html\" target=\"_blank\">GNU General Public License v3</a></td></tr>\n",
    "    <tr><td><strong>Changes:</strong></td>\n",
    "        <td>All significant changes to this code must be recorded in this notebook</td></tr>\n",
    "</table>"
   ]
  },
  {
   "cell_type": "markdown",
   "id": "5715a135-8768-4fac-9373-072ffd8039a1",
   "metadata": {},
   "source": [
    "## Libraries"
   ]
  },
  {
   "cell_type": "code",
   "execution_count": 2,
   "id": "7c92610b-6d3a-45cb-9c29-487523799255",
   "metadata": {},
   "outputs": [
    {
     "data": {
      "text/plain": [
       "['/home/jacob/miniconda3/envs/pl_test/lib/python311.zip',\n",
       " '/home/jacob/miniconda3/envs/pl_test/lib/python3.11',\n",
       " '/home/jacob/miniconda3/envs/pl_test/lib/python3.11/lib-dynload',\n",
       " '',\n",
       " '/home/jacob/miniconda3/envs/pl_test/lib/python3.11/site-packages',\n",
       " '.',\n",
       " '..']"
      ]
     },
     "execution_count": 2,
     "metadata": {},
     "output_type": "execute_result"
    }
   ],
   "source": [
    "import sys\n",
    "sys.path.append('.')\n",
    "sys.path.append('..')\n",
    "sys.path"
   ]
  },
  {
   "cell_type": "code",
   "execution_count": 3,
   "id": "e4a6dcc2-2992-43ea-9ce7-925124df72bb",
   "metadata": {},
   "outputs": [],
   "source": [
    "### General libraries\n",
    "\n",
    "import os\n",
    "import math\n",
    "import time\n",
    "import copy\n",
    "import numpy as nnp # if wanted to use standard numpy\n",
    "import pandas as pd\n",
    "from IPython.display import clear_output\n",
    "\n",
    "import matplotlib.pyplot as plt\n",
    "from matplotlib import set_loglevel\n",
    "set_loglevel(\"warning\")\n",
    "\n",
    "import warnings\n",
    "warnings.filterwarnings(\"ignore\")\n",
    "\n",
    "%matplotlib inline"
   ]
  },
  {
   "cell_type": "code",
   "execution_count": 4,
   "id": "d7369b15-1a33-4e1c-ba8b-11dcae8d5650",
   "metadata": {},
   "outputs": [],
   "source": [
    "### Import utilities\n",
    "from utilities import *"
   ]
  },
  {
   "cell_type": "code",
   "execution_count": 5,
   "id": "48b72711-f1e8-4db4-a8cb-b8edbcb30a4e",
   "metadata": {},
   "outputs": [],
   "source": [
    "### Import PennyLane\n",
    "import pennylane as qml\n",
    "from pennylane import numpy as np # redefined numpy\n",
    "\n",
    "import plotly.express as px\n",
    "from sklearn.datasets import make_regression\n",
    "from sklearn.metrics import r2_score, mean_squared_error"
   ]
  },
  {
   "cell_type": "markdown",
   "id": "68b9fa1f-aefe-4b89-ad84-5a3b29611be4",
   "metadata": {},
   "source": [
    "---"
   ]
  },
  {
   "cell_type": "markdown",
   "id": "c14d8243-f35f-4289-ba52-58c59e0634ba",
   "metadata": {},
   "source": [
    "## <font color=\"blue\">Data preparation</font>\n",
    "<font color=\"LightCoral\">Task 1: Follow the instructor demonstration to step through the code.</font>"
   ]
  },
  {
   "cell_type": "markdown",
   "id": "e0b9e70b-5fcb-4930-8f82-f3d485271ee0",
   "metadata": {},
   "source": [
    "### Data set in its original form"
   ]
  },
  {
   "cell_type": "code",
   "execution_count": 6,
   "id": "05ab86be-f486-46ca-b35b-3673906f2cff",
   "metadata": {},
   "outputs": [
    {
     "data": {
      "application/vnd.plotly.v1+json": {
       "config": {
        "plotlyServerURL": "https://plot.ly"
       },
       "data": [
        {
         "hovertemplate": "Feature x=%{x}<br>Feature y=%{y}<br>Target=%{z}<extra></extra>",
         "legendgroup": "",
         "marker": {
          "color": "CornflowerBlue",
          "size": 3,
          "symbol": "circle"
         },
         "mode": "markers",
         "name": "",
         "scene": "scene",
         "showlegend": false,
         "type": "scatter3d",
         "x": {
          "bdata": "aYiBQZQP87/ooSJ8iM2tP0uHKYeIx+I/Le0xdoZJ3j++nUiqhKHnP5T5Effmduy/7XIjckmz/r8cYhNzs5Pcv7DVSic2AOo/XG9XkwBJ8j8wbjxNjLPxv6Fsmod3BeQ/0js9oW44478apYzLTBjZv0CmV9+8+M2/Q/yxI+8Y67+QBsdh+UrtPzhYbbDKvdQ/OiugAxPauD/6IytdQW+yv3Abwa6iqN2/rPfNLTL/8L8IdECodET5P8TCNmO8oIo/j+MlX+xr7b/BbA5bNR7Mvw06yBDZ8XQ//1qwA0BA9b9fMbI2IJu9v3wwqSgqyt8/OIpGXqJ9tz+mMWnmyirGPxLk7nBDmfu/AdZ0NMPC5b8EJo3KW6X2vxsCfkTRLf4/aF4kUN255D9NOahTWKnlvyo+CwyzwdI/7T4bLfrT7j9w+Z6lnvjOP19fz+s89QTA3ZmHtuBoz7/5A4uBiA7tv3PsV8y+s+A/r71qQlUI6j94SMgMOHfmvzcuH7VJUuo/QQ2fH0xz9z9Lcu75Ld/pv1MVD7Xe2uq/5JwNesCCuT9CpChtCyXXP4ueeUveC96/VWYobMqq3r8V9c49eGryv+eq0BtRTuo/5IZhukifyL8349E5dKX3P9qDOHWEz/i/9Nq8q8vz4L8hrkt3t0i2P60Y23t+1q4/2MMf1IzK87+/NmYI8Lyzv8BzdZwCpcS/uPAUV0C4+b+IQQCR1/3VP987sV822v0/3zBiNWkQ6b+n/ak5LkHjvws0Ft4I79W/1Pz0Wvl+8D9VNCM6aB3NP3lRo2eONPC/3IIHKhMI0D9TYjSdlzDvv9CD1DoiUOk/auDaNiPw0L8noah+bGfLP7Vp79IKvMo/CDJXt73Fob96f45TTbXRP31ECyxgIvG/hoOw1m6ki7+KTA+JazPVPxp+bLVtmsy/KPrKUZVr4b+de06itHvQP8Y1sUaHSbE/UhmlZMpXor80xIdy2HH2Pwa4sKwGqPe/we3ZY49I7L8hCJKEm4nyP4/ppAgbIdc/IzBrdqLz0j9p9j08ebLvv9muIgobe92/zsOFceuh0D8=",
          "dtype": "f8"
         },
         "y": {
          "bdata": "DOaktnwC5T/jtRc5m0nyv2mLYZkNhgFAqoMQZuqksr8MLqRVZe/FPwxYtSseG+q/OEbHD3Qmm78ogL5xnmfrP/3Ng74os/U/Vn8F3dUP6D/09ZqOqSPzv354Cq/Vbeu/oNLzQhyr0r8Q9Hamjmr3vzvbcCYz+M2/+mSHcdA8+L+AxSAYQgrVP0APKiYwpdi/U7x4xyP/7j9qgA6DeA7wP+fvFiuEzt2/LYVNoFZP3j/z1/BG047oPwoy0PKsQfc/xu3HBIjM+D/Tieiv7trWP4RO9IDzBs6/QDr0vL8yyT/hr1BvSEXTvyoF3gWlssG/4hzsDxXN/79VAiE6CqnYP2M8oWpC/uG/nT7XOH26zT90hh9c2uvav5EnXNaQWMY/K6oBjlRe+D/57Akn2pLjP3/ISIH32+a/d7VmsQBr2j++Ne6+y5z+v79YGXsGTeo/8kr3TZse6L/HExTEy5j2vzXJvADMAdM/EVsOyJ6x87+XkvGmavjUvxx64lmTiPO/2Zhm4TzmzL+hdpfJZA7gv88pc7QiytO/b1yY+Xgc4L+vCgEv0qTkv30tauGmXOE/E259YKzDx7/o3X2zbwvYP/l+PJlDWf4/cjBhOY1M0z8wPL9sq5Xgv9YjgtZXjbE/A1zq0q9s4D/A7eC57yLTv7gI2ke4tANABr4PHZcg9b9JabMXb9XVPzMc/B/429k/cbUQEBWixz9OFQ2YaTX8v+BkxVBHU94/xtPZ56ec1L9X9hhz7qL9P3wxNGFBrOm/Hpzg9gvN7T/Tik2FDur0Px+GFtigHNQ/bQZjHDUs1j9TSQgNzC/pP/yNN7izGe2/TLhQDejCBUDe1B7Ji+7zv8MwUA/PWv+/zxHyveey8r9yFE0BSXjqP2JDLPvT4N4/RsyHS2Ls8L8AaBhqqjfvPw+CbpAX2eY/NQYxP2xlvD9gVYk14w6zv2InDcHEy/a/Mdc5yccI+T8a5Ehh+232vyemqLj2COe/TBpOp0Otwz/cO7eQB0PqvyBgEDvMm/g/FIEdLCG10D+zLI5qHB/iv2LC1/746fA/FIwxZrEE6T8=",
          "dtype": "f8"
         },
         "z": {
          "bdata": "JMRixa9JSsCoK1+EIpdUwFwInMihj2pADAUHPZ9UQEDIyU3DrDpUQCLkKhoc8WDABFHTGDW7ZcBwy9KOwMw5QHjdUIovz2ZAEVZ/Lnx1Y0BKqIlq9J1nwDJkzRqTGCfAXpSMRuaKU8ClhVpQSZlhwCgLhC9jY0bAtjaepGbAZsBjz8Jbsr9ZQDcNogGu6xXA0hGVlk9AU0DTsEwNLMxRQFIJC7/AJVLASkKlyCspTsBaVlW+6NZnQJWo8Bl/8VpAz+5eEmxmQUBB4hNwHGkjQISMP53WrSjAZsxVTjzSW8DSovym7UFEwFkPan1wYENAWNpyvy54YcAEatvIXXFHQMEKbr1Pt2XAUxKRSBEORcBGqeEoXRdiwHOsHAD//2VArtaB21XdZUDe5O83IqgxwMxpmo1NIT3AY02MxhFxX0CSPS9nOntdwAKE5RKBlmTAviJgr9+HU8BBve4qe1NmwEacPLF6MlFASNEqt2j7OsD2PdReokJTwB5subvo2zHAwnI9SMkoXUAQlZVMuoZcwHA6RTYIDFnAtxggwARkNMDy8YiIaC86wCH6WVnmNvk/i5KPaYfIS8AEv4NWBVdRwEVcILXyW2lAS/ep+s+qIkC2WZjqneZXQP8jrRDuQ2HAppBDwpuqJcCRmHMQkHkywNBajAEhv2dAwOSC9QGBacD9QS0uZ+kzQKd9p9DLXSBAIo1JFLbTX8BeEVNLYQhZwK4S25mz62hA6b7KPcZXVcDCNEEMBs9UQKmtq5KMFVXAOOQB6OxaZEAVZ24wgKZeQEjXahd2XU/A910bsfRRRkD73nRo9kczwAH+OwP2VSzAWmoJPB/6ZUC8gkuHp1tRwOdDcnsj0VzAhtrikSOQV8AZZBYNBJxUQHDRDs0N/ErAaEqptqB9VMBOQmyJWppZQMtzYsn0iEFAvAqYAqWPRMDJK70xp2o3QEmmpbr8FljAhP9HUOhcW0DyQJuSsTgsQOpv7bz1LGfA/G63ZoGTUcDMuO8pr1VBQJNv75hWUmJAWgIDKdyBQ0DhtVcLDuNgwGKUcn4+q0VACETHVMTzUkA=",
          "dtype": "f8"
         }
        }
       ],
       "layout": {
        "height": 600,
        "legend": {
         "tracegroupgap": 0
        },
        "margin": {
         "b": 50,
         "l": 50,
         "pad": 10,
         "r": 50,
         "t": 50
        },
        "paper_bgcolor": "whitesmoke",
        "scene": {
         "domain": {
          "x": [
           0,
           1
          ],
          "y": [
           0,
           1
          ]
         },
         "xaxis": {
          "title": {
           "text": "Feature x"
          }
         },
         "yaxis": {
          "title": {
           "text": "Feature y"
          }
         },
         "zaxis": {
          "title": {
           "text": "Target"
          }
         }
        },
        "template": {
         "data": {
          "bar": [
           {
            "error_x": {
             "color": "#2a3f5f"
            },
            "error_y": {
             "color": "#2a3f5f"
            },
            "marker": {
             "line": {
              "color": "#E5ECF6",
              "width": 0.5
             },
             "pattern": {
              "fillmode": "overlay",
              "size": 10,
              "solidity": 0.2
             }
            },
            "type": "bar"
           }
          ],
          "barpolar": [
           {
            "marker": {
             "line": {
              "color": "#E5ECF6",
              "width": 0.5
             },
             "pattern": {
              "fillmode": "overlay",
              "size": 10,
              "solidity": 0.2
             }
            },
            "type": "barpolar"
           }
          ],
          "carpet": [
           {
            "aaxis": {
             "endlinecolor": "#2a3f5f",
             "gridcolor": "white",
             "linecolor": "white",
             "minorgridcolor": "white",
             "startlinecolor": "#2a3f5f"
            },
            "baxis": {
             "endlinecolor": "#2a3f5f",
             "gridcolor": "white",
             "linecolor": "white",
             "minorgridcolor": "white",
             "startlinecolor": "#2a3f5f"
            },
            "type": "carpet"
           }
          ],
          "choropleth": [
           {
            "colorbar": {
             "outlinewidth": 0,
             "ticks": ""
            },
            "type": "choropleth"
           }
          ],
          "contour": [
           {
            "colorbar": {
             "outlinewidth": 0,
             "ticks": ""
            },
            "colorscale": [
             [
              0,
              "#0d0887"
             ],
             [
              0.1111111111111111,
              "#46039f"
             ],
             [
              0.2222222222222222,
              "#7201a8"
             ],
             [
              0.3333333333333333,
              "#9c179e"
             ],
             [
              0.4444444444444444,
              "#bd3786"
             ],
             [
              0.5555555555555556,
              "#d8576b"
             ],
             [
              0.6666666666666666,
              "#ed7953"
             ],
             [
              0.7777777777777778,
              "#fb9f3a"
             ],
             [
              0.8888888888888888,
              "#fdca26"
             ],
             [
              1,
              "#f0f921"
             ]
            ],
            "type": "contour"
           }
          ],
          "contourcarpet": [
           {
            "colorbar": {
             "outlinewidth": 0,
             "ticks": ""
            },
            "type": "contourcarpet"
           }
          ],
          "heatmap": [
           {
            "colorbar": {
             "outlinewidth": 0,
             "ticks": ""
            },
            "colorscale": [
             [
              0,
              "#0d0887"
             ],
             [
              0.1111111111111111,
              "#46039f"
             ],
             [
              0.2222222222222222,
              "#7201a8"
             ],
             [
              0.3333333333333333,
              "#9c179e"
             ],
             [
              0.4444444444444444,
              "#bd3786"
             ],
             [
              0.5555555555555556,
              "#d8576b"
             ],
             [
              0.6666666666666666,
              "#ed7953"
             ],
             [
              0.7777777777777778,
              "#fb9f3a"
             ],
             [
              0.8888888888888888,
              "#fdca26"
             ],
             [
              1,
              "#f0f921"
             ]
            ],
            "type": "heatmap"
           }
          ],
          "histogram": [
           {
            "marker": {
             "pattern": {
              "fillmode": "overlay",
              "size": 10,
              "solidity": 0.2
             }
            },
            "type": "histogram"
           }
          ],
          "histogram2d": [
           {
            "colorbar": {
             "outlinewidth": 0,
             "ticks": ""
            },
            "colorscale": [
             [
              0,
              "#0d0887"
             ],
             [
              0.1111111111111111,
              "#46039f"
             ],
             [
              0.2222222222222222,
              "#7201a8"
             ],
             [
              0.3333333333333333,
              "#9c179e"
             ],
             [
              0.4444444444444444,
              "#bd3786"
             ],
             [
              0.5555555555555556,
              "#d8576b"
             ],
             [
              0.6666666666666666,
              "#ed7953"
             ],
             [
              0.7777777777777778,
              "#fb9f3a"
             ],
             [
              0.8888888888888888,
              "#fdca26"
             ],
             [
              1,
              "#f0f921"
             ]
            ],
            "type": "histogram2d"
           }
          ],
          "histogram2dcontour": [
           {
            "colorbar": {
             "outlinewidth": 0,
             "ticks": ""
            },
            "colorscale": [
             [
              0,
              "#0d0887"
             ],
             [
              0.1111111111111111,
              "#46039f"
             ],
             [
              0.2222222222222222,
              "#7201a8"
             ],
             [
              0.3333333333333333,
              "#9c179e"
             ],
             [
              0.4444444444444444,
              "#bd3786"
             ],
             [
              0.5555555555555556,
              "#d8576b"
             ],
             [
              0.6666666666666666,
              "#ed7953"
             ],
             [
              0.7777777777777778,
              "#fb9f3a"
             ],
             [
              0.8888888888888888,
              "#fdca26"
             ],
             [
              1,
              "#f0f921"
             ]
            ],
            "type": "histogram2dcontour"
           }
          ],
          "mesh3d": [
           {
            "colorbar": {
             "outlinewidth": 0,
             "ticks": ""
            },
            "type": "mesh3d"
           }
          ],
          "parcoords": [
           {
            "line": {
             "colorbar": {
              "outlinewidth": 0,
              "ticks": ""
             }
            },
            "type": "parcoords"
           }
          ],
          "pie": [
           {
            "automargin": true,
            "type": "pie"
           }
          ],
          "scatter": [
           {
            "fillpattern": {
             "fillmode": "overlay",
             "size": 10,
             "solidity": 0.2
            },
            "type": "scatter"
           }
          ],
          "scatter3d": [
           {
            "line": {
             "colorbar": {
              "outlinewidth": 0,
              "ticks": ""
             }
            },
            "marker": {
             "colorbar": {
              "outlinewidth": 0,
              "ticks": ""
             }
            },
            "type": "scatter3d"
           }
          ],
          "scattercarpet": [
           {
            "marker": {
             "colorbar": {
              "outlinewidth": 0,
              "ticks": ""
             }
            },
            "type": "scattercarpet"
           }
          ],
          "scattergeo": [
           {
            "marker": {
             "colorbar": {
              "outlinewidth": 0,
              "ticks": ""
             }
            },
            "type": "scattergeo"
           }
          ],
          "scattergl": [
           {
            "marker": {
             "colorbar": {
              "outlinewidth": 0,
              "ticks": ""
             }
            },
            "type": "scattergl"
           }
          ],
          "scattermap": [
           {
            "marker": {
             "colorbar": {
              "outlinewidth": 0,
              "ticks": ""
             }
            },
            "type": "scattermap"
           }
          ],
          "scattermapbox": [
           {
            "marker": {
             "colorbar": {
              "outlinewidth": 0,
              "ticks": ""
             }
            },
            "type": "scattermapbox"
           }
          ],
          "scatterpolar": [
           {
            "marker": {
             "colorbar": {
              "outlinewidth": 0,
              "ticks": ""
             }
            },
            "type": "scatterpolar"
           }
          ],
          "scatterpolargl": [
           {
            "marker": {
             "colorbar": {
              "outlinewidth": 0,
              "ticks": ""
             }
            },
            "type": "scatterpolargl"
           }
          ],
          "scatterternary": [
           {
            "marker": {
             "colorbar": {
              "outlinewidth": 0,
              "ticks": ""
             }
            },
            "type": "scatterternary"
           }
          ],
          "surface": [
           {
            "colorbar": {
             "outlinewidth": 0,
             "ticks": ""
            },
            "colorscale": [
             [
              0,
              "#0d0887"
             ],
             [
              0.1111111111111111,
              "#46039f"
             ],
             [
              0.2222222222222222,
              "#7201a8"
             ],
             [
              0.3333333333333333,
              "#9c179e"
             ],
             [
              0.4444444444444444,
              "#bd3786"
             ],
             [
              0.5555555555555556,
              "#d8576b"
             ],
             [
              0.6666666666666666,
              "#ed7953"
             ],
             [
              0.7777777777777778,
              "#fb9f3a"
             ],
             [
              0.8888888888888888,
              "#fdca26"
             ],
             [
              1,
              "#f0f921"
             ]
            ],
            "type": "surface"
           }
          ],
          "table": [
           {
            "cells": {
             "fill": {
              "color": "#EBF0F8"
             },
             "line": {
              "color": "white"
             }
            },
            "header": {
             "fill": {
              "color": "#C8D4E3"
             },
             "line": {
              "color": "white"
             }
            },
            "type": "table"
           }
          ]
         },
         "layout": {
          "annotationdefaults": {
           "arrowcolor": "#2a3f5f",
           "arrowhead": 0,
           "arrowwidth": 1
          },
          "autotypenumbers": "strict",
          "coloraxis": {
           "colorbar": {
            "outlinewidth": 0,
            "ticks": ""
           }
          },
          "colorscale": {
           "diverging": [
            [
             0,
             "#8e0152"
            ],
            [
             0.1,
             "#c51b7d"
            ],
            [
             0.2,
             "#de77ae"
            ],
            [
             0.3,
             "#f1b6da"
            ],
            [
             0.4,
             "#fde0ef"
            ],
            [
             0.5,
             "#f7f7f7"
            ],
            [
             0.6,
             "#e6f5d0"
            ],
            [
             0.7,
             "#b8e186"
            ],
            [
             0.8,
             "#7fbc41"
            ],
            [
             0.9,
             "#4d9221"
            ],
            [
             1,
             "#276419"
            ]
           ],
           "sequential": [
            [
             0,
             "#0d0887"
            ],
            [
             0.1111111111111111,
             "#46039f"
            ],
            [
             0.2222222222222222,
             "#7201a8"
            ],
            [
             0.3333333333333333,
             "#9c179e"
            ],
            [
             0.4444444444444444,
             "#bd3786"
            ],
            [
             0.5555555555555556,
             "#d8576b"
            ],
            [
             0.6666666666666666,
             "#ed7953"
            ],
            [
             0.7777777777777778,
             "#fb9f3a"
            ],
            [
             0.8888888888888888,
             "#fdca26"
            ],
            [
             1,
             "#f0f921"
            ]
           ],
           "sequentialminus": [
            [
             0,
             "#0d0887"
            ],
            [
             0.1111111111111111,
             "#46039f"
            ],
            [
             0.2222222222222222,
             "#7201a8"
            ],
            [
             0.3333333333333333,
             "#9c179e"
            ],
            [
             0.4444444444444444,
             "#bd3786"
            ],
            [
             0.5555555555555556,
             "#d8576b"
            ],
            [
             0.6666666666666666,
             "#ed7953"
            ],
            [
             0.7777777777777778,
             "#fb9f3a"
            ],
            [
             0.8888888888888888,
             "#fdca26"
            ],
            [
             1,
             "#f0f921"
            ]
           ]
          },
          "colorway": [
           "#636efa",
           "#EF553B",
           "#00cc96",
           "#ab63fa",
           "#FFA15A",
           "#19d3f3",
           "#FF6692",
           "#B6E880",
           "#FF97FF",
           "#FECB52"
          ],
          "font": {
           "color": "#2a3f5f"
          },
          "geo": {
           "bgcolor": "white",
           "lakecolor": "white",
           "landcolor": "#E5ECF6",
           "showlakes": true,
           "showland": true,
           "subunitcolor": "white"
          },
          "hoverlabel": {
           "align": "left"
          },
          "hovermode": "closest",
          "mapbox": {
           "style": "light"
          },
          "paper_bgcolor": "white",
          "plot_bgcolor": "#E5ECF6",
          "polar": {
           "angularaxis": {
            "gridcolor": "white",
            "linecolor": "white",
            "ticks": ""
           },
           "bgcolor": "#E5ECF6",
           "radialaxis": {
            "gridcolor": "white",
            "linecolor": "white",
            "ticks": ""
           }
          },
          "scene": {
           "xaxis": {
            "backgroundcolor": "#E5ECF6",
            "gridcolor": "white",
            "gridwidth": 2,
            "linecolor": "white",
            "showbackground": true,
            "ticks": "",
            "zerolinecolor": "white"
           },
           "yaxis": {
            "backgroundcolor": "#E5ECF6",
            "gridcolor": "white",
            "gridwidth": 2,
            "linecolor": "white",
            "showbackground": true,
            "ticks": "",
            "zerolinecolor": "white"
           },
           "zaxis": {
            "backgroundcolor": "#E5ECF6",
            "gridcolor": "white",
            "gridwidth": 2,
            "linecolor": "white",
            "showbackground": true,
            "ticks": "",
            "zerolinecolor": "white"
           }
          },
          "shapedefaults": {
           "line": {
            "color": "#2a3f5f"
           }
          },
          "ternary": {
           "aaxis": {
            "gridcolor": "white",
            "linecolor": "white",
            "ticks": ""
           },
           "baxis": {
            "gridcolor": "white",
            "linecolor": "white",
            "ticks": ""
           },
           "bgcolor": "#E5ECF6",
           "caxis": {
            "gridcolor": "white",
            "linecolor": "white",
            "ticks": ""
           }
          },
          "title": {
           "x": 0.05
          },
          "xaxis": {
           "automargin": true,
           "gridcolor": "white",
           "linecolor": "white",
           "ticks": "",
           "title": {
            "standoff": 15
           },
           "zerolinecolor": "white",
           "zerolinewidth": 2
          },
          "yaxis": {
           "automargin": true,
           "gridcolor": "white",
           "linecolor": "white",
           "ticks": "",
           "title": {
            "standoff": 15
           },
           "zerolinecolor": "white",
           "zerolinewidth": 2
          }
         }
        },
        "title": {
         "text": "Interactive 3D Scatter Plot"
        },
        "width": 600
       }
      },
      "image/png": "[encoded data removed]"
     },
     "metadata": {},
     "output_type": "display_data"
    }
   ],
   "source": [
    "import plotly.io as pio\n",
    "# The following may preserve the chart on saving\n",
    "# pio.renderers.default = 'jupyterlab' # or 'notebook'\n",
    "\n",
    "np.random.seed(42)  # For reproducibility\n",
    "data_seed = 42\n",
    "n_samples = 100\n",
    "n_features = 2\n",
    "\n",
    "# Generate synthetic regression data\n",
    "X_raw, y_raw = make_regression(\n",
    "    n_samples=n_samples,\n",
    "    n_features=n_features, \n",
    "    noise=5.0,\n",
    "    random_state=data_seed\n",
    ")\n",
    "y_raw = y_raw.reshape((y_raw.shape[0], 1))\n",
    "\n",
    "# Create an interactive 3D scatter plot, of the first two columns\n",
    "fig = px.scatter_3d(x=X_raw[:, 0], y=X_raw[:, 1], z=y_raw[:, 0], \n",
    "                    title='Interactive 3D Scatter Plot',\n",
    "                    labels={'x': 'Feature x', \n",
    "                            'y': 'Feature y', \n",
    "                            'z': 'Target'})\n",
    "mrg = dict(l = 50, r = 50, b = 50, t = 50, pad = 10)\n",
    "fig.update_traces(marker=dict(size=3, color='CornflowerBlue', symbol='circle'))\n",
    "fig.update_layout(width=600, height=600, margin = mrg, paper_bgcolor = 'whitesmoke')\n",
    "fig.show()"
   ]
  },
  {
   "cell_type": "markdown",
   "id": "52e62554-a1c4-4bd8-9ad3-b73bf78fa12b",
   "metadata": {},
   "source": [
    "---"
   ]
  },
  {
   "cell_type": "markdown",
   "id": "d94daa63-93e2-4224-83d5-341938e24972",
   "metadata": {},
   "source": [
    "## <font color=\"blue\">Model development</font>"
   ]
  },
  {
   "cell_type": "markdown",
   "id": "08bfba56-91d4-499a-befd-d3b37588c06f",
   "metadata": {},
   "source": [
    "### Model and training configuration\n",
    "<font color=\"LightCoral\">Task 2: Experiment with the model size and training hyper-parameters.</font>\n",
    "\n",
    "- <font color=\"LightCoral\">Change basic to strong entangling method (basic_ent = False)</font>\n",
    "- <font color=\"LightCoral\">Change the number of qubits/wires _**n_wires**_ (what happens)</font>\n",
    "- <font color=\"LightCoral\">Change the number of layers _**n_layers**_</font>\n",
    "- <font color=\"LightCoral\">Change the number of training epochs _**epochs**_</font>\n",
    "\n",
    "<font color=\"LightCoral\">Task 3: Increase the encoding margin.</font>\n",
    "\n",
    "- <font color=\"LightCoral\">Change the value of _**x_angle_margin**_ to 0.5.</font>\n",
    "- <font color=\"LightCoral\">What is the impact of this change? Why?</font>"
   ]
  },
  {
   "cell_type": "code",
   "execution_count": 7,
   "id": "874324ec-453f-4c8f-a6b4-b6c061a6371a",
   "metadata": {},
   "outputs": [],
   "source": [
    "### Data params used in scaling\n",
    "#   Encoded values to be scaled to range (0..pi)\n",
    "#   Optionally, margins can be left out on the value boundaries\n",
    "x_angle_margin = 0.1 \n",
    "x_angle_min = 0+x_angle_margin\n",
    "x_angle_max = np.pi-x_angle_margin\n",
    "\n",
    "### Architectural parameters\n",
    "n_wires = 2 # n_features\n",
    "n_layers = 5\n",
    "basic_ent = True\n",
    "wires = list(range(n_wires))\n",
    "\n",
    "### Training hyper-parameters\n",
    "epochs = 50 # 20 # 50 (preferred) # 100 # 300 (long wait)\n",
    "prompt_fract = 0.05 # Fraction of results shown in training\n",
    "shots = None # Theoretical results will be computed\n",
    "seed = 2025"
   ]
  },
  {
   "cell_type": "markdown",
   "id": "0f3d1ed0-2fe6-43c8-bfbd-a922e460976e",
   "metadata": {},
   "source": [
    "### Prepare data for the quantum classifier"
   ]
  },
  {
   "cell_type": "code",
   "execution_count": 8,
   "id": "83900794-4f94-43dc-82ce-48bdd44a7656",
   "metadata": {},
   "outputs": [],
   "source": [
    "### Standardise X values to the range 0..pi\n",
    "from sklearn.preprocessing import StandardScaler, MinMaxScaler\n",
    "X_scaler = MinMaxScaler(feature_range=(x_angle_min, x_angle_max)) \n",
    "X_scaled = X_scaler.fit_transform(X_raw)\n",
    "y_scaler = MinMaxScaler(feature_range=(0, 1))\n",
    "y_scaled = y_scaler.fit_transform(y_raw)"
   ]
  },
  {
   "cell_type": "code",
   "execution_count": 9,
   "id": "204b242b-c9c1-4f8f-a5e7-00f9a396f68a",
   "metadata": {},
   "outputs": [
    {
     "name": "stdout",
     "output_type": "stream",
     "text": [
      "Shapes: X_train=(67, 2), X_test=(33, 2), y_train=(67, 1), y_test=(33, 1)\n"
     ]
    }
   ],
   "source": [
    "### Create data partitions\n",
    "from sklearn.model_selection import train_test_split\n",
    "X_train, X_test, y_train, y_test = train_test_split(X_scaled, y_scaled, \n",
    "                                                    test_size=0.33, random_state=seed, shuffle=False)\n",
    "print(f'Shapes: X_train={X_train.shape}, X_test={X_test.shape}, y_train={y_train.shape}, y_test={y_test.shape}')"
   ]
  },
  {
   "cell_type": "code",
   "execution_count": 10,
   "id": "ab85dc0d-fb4a-4d6f-b0d2-5b6cad51785d",
   "metadata": {},
   "outputs": [],
   "source": [
    "### Change the data format to tensors\n",
    "X_train_tens = qml.numpy.tensor(np.array(X_train), requires_grad=False)\n",
    "y_train_tens = qml.numpy.tensor(np.array(y_train), requires_grad=False)\n",
    "X_test_tens  = qml.numpy.tensor(np.array(X_test), requires_grad=False)\n",
    "y_test_tens  = qml.numpy.tensor(np.array(y_test), requires_grad=False)"
   ]
  },
  {
   "cell_type": "markdown",
   "id": "d3fc94bc-3dd7-4660-8464-7cc952f6f51b",
   "metadata": {},
   "source": [
    "## Loss and cost function"
   ]
  },
  {
   "cell_type": "code",
   "execution_count": 11,
   "id": "9780446d-8199-440e-a0ee-3698bbbae837",
   "metadata": {},
   "outputs": [],
   "source": [
    "### Our own gradient-friendly loss function\n",
    "def mse_cost(targets, predictions):\n",
    "    cost = 0\n",
    "    for l, p in zip(targets, predictions):\n",
    "        cost = cost + (l - p) ** 2\n",
    "    cost = cost / len(targets)\n",
    "    return cost\n",
    "\n",
    "### The cost function generator\n",
    "def cost_fun_gen(model, cost_fun):\n",
    "    def _cost_fun(params, inputs, targets):\n",
    "        nonlocal model, cost_fun\n",
    "        preds = [model(params, x) for x in inputs]\n",
    "        return cost_fun(targets, preds)\n",
    "    return _cost_fun"
   ]
  },
  {
   "cell_type": "markdown",
   "id": "fd7e84f7-ba14-4893-a5c1-e967db699024",
   "metadata": {},
   "source": [
    "## PennyLane quantum linear model"
   ]
  },
  {
   "cell_type": "code",
   "execution_count": 12,
   "id": "dde3d8df-1631-4528-a56b-a90d5b4905df",
   "metadata": {},
   "outputs": [
    {
     "name": "stdout",
     "output_type": "stream",
     "text": [
      "Device to be used:  default.qubit\n",
      "\n"
     ]
    }
   ],
   "source": [
    "### Define default device\n",
    "sim = 'default.qubit' # default.qubit lightning.qubit lightning.gpu\n",
    "dev = qml.device(sim, wires=n_wires, shots=shots)\n",
    "\n",
    "print(f'Device to be used:  {sim}\\n')"
   ]
  },
  {
   "cell_type": "markdown",
   "id": "51f71f50-f29b-45b1-a31a-f8c13a7b6ac3",
   "metadata": {},
   "source": [
    "<font color=\"CornflowerBlue\">PennyLane model optimisation relies on the concept of <strong><em>differentiable programming</em></strong>.<br>\n",
    "This means that every model component must be a function or its equivalent (e.g. matrix or circuit).<br>\n",
    "Quantum models presented below are implemented in terms of pure functions.<br>\n",
    "Such functions do not reference any global variables but take advantage of the <em><strong>nested</strong> or <strong>composite functions</strong></em>.<br>\n",
    "The higher level function sets the variable scope for the inner function, which is retained.<br>\n",
    "Optimisation of such models is done by using their function derivatives, which is achieved by the <strong><em>chain rule</em></strong>.<br>\n",
    "PennyLane has many functions implemented in this way, e.g. functions responsible for circuit drawing.</font>\n",
    "\n",
    "*Note that the following model has the flexibility of using either basic or strong qubit entanglement.*"
   ]
  },
  {
   "cell_type": "code",
   "execution_count": 13,
   "id": "dacb6a1b-af03-463e-b4ad-c369390d1b5a",
   "metadata": {},
   "outputs": [],
   "source": [
    "### Define a quantum linear model functionally\n",
    "### This is the PennyLane style of doing things\n",
    "def qlinear(n_wires, scaler=1.0, basic=False):\n",
    "    \n",
    "    def _qlinear(weights, inputs):\n",
    "        nonlocal n_wires, scaler, basic\n",
    "        data_wires = list(range(n_wires))\n",
    "        scaled_inputs = inputs * scaler\n",
    "\n",
    "        # Standard angle encoding block\n",
    "        qml.AngleEmbedding(scaled_inputs, wires=data_wires)  \n",
    "\n",
    "        # Ansatz with optional basic or strong entangling block\n",
    "        if basic:\n",
    "            qml.BasicEntanglerLayers(weights, wires=data_wires, rotation=qml.RY)\n",
    "        else:\n",
    "            qml.StronglyEntanglingLayers(weights, wires=data_wires)\n",
    "        return qml.expval(qml.PauliZ(0))\n",
    "        \n",
    "    return _qlinear"
   ]
  },
  {
   "cell_type": "markdown",
   "id": "d02737a8-6c6e-4395-bd2b-bf70bafcc42e",
   "metadata": {},
   "source": [
    "<font color=\"CornflowerBlue\">When we create a complex model, we also need to define a method of calculating its parameters shape.<br>\n",
    "By turning this method into a function, which could be used wherever is needed, we ensure consistency of shape calculation.<br>\n",
    "For some basic circuit \"patterns\", PennyLane provides shape calculating helper functions (as used in here).</font>"
   ]
  },
  {
   "cell_type": "code",
   "execution_count": 14,
   "id": "67a9929b-76a2-4256-9cde-0a283448a67a",
   "metadata": {},
   "outputs": [],
   "source": [
    "### Check the model shape\n",
    "### This is defined so that we could select and check the shape in one place\n",
    "def qlinear_shape(n_wires, n_layers=1, basic=False):\n",
    "    if basic:\n",
    "        shape = qml.BasicEntanglerLayers.shape(n_layers=n_layers, n_wires=n_wires)\n",
    "    else:\n",
    "        shape = qml.StronglyEntanglingLayers.shape(n_layers=n_layers, n_wires=n_wires)\n",
    "    return shape"
   ]
  },
  {
   "cell_type": "markdown",
   "id": "582dfa4c-6a67-49f0-b3d2-dad613944d57",
   "metadata": {},
   "source": [
    "<font color=\"CornflowerBlue\">Note that in contrast with the Session 1 model, we are not using the function decoration to create a model QNode (circuit),<br>\n",
    "but instead we create the QNode step by step.</font>"
   ]
  },
  {
   "cell_type": "code",
   "execution_count": 15,
   "id": "f5009f05-cac7-445e-a2ed-6349479aba23",
   "metadata": {},
   "outputs": [
    {
     "data": {
      "image/png": "[encoded data removed]",
      "text/plain": [
       "<Figure size 700x150 with 1 Axes>"
      ]
     },
     "metadata": {},
     "output_type": "display_data"
    }
   ],
   "source": [
    "### Create a quantum linear model\n",
    "\n",
    "# Prepare the quantum linear model and then its qnode (circuit)\n",
    "qmodel = qlinear(n_wires, basic=basic_ent)\n",
    "qlinear_model = qml.QNode(qmodel, dev)\n",
    "shape = qlinear_shape(n_wires, n_layers=n_layers, basic=basic_ent)\n",
    "\n",
    "# Plot the model circuit (needs weights and some input)\n",
    "test_params = np.random.uniform(high=np.pi, size=shape, requires_grad=True)\n",
    "draw_circuit(qlinear_model, scale=0.5, \n",
    "             title=f'Quantum circuit \"qlinear\", shape={shape}, param#={np.prod(shape)}', level='device') \\\n",
    "    (test_params, X_train_tens[0]) # level='device'/'gradient'"
   ]
  },
  {
   "cell_type": "code",
   "execution_count": 16,
   "id": "9f87dae2-baca-4b15-8f36-43d90dcbd580",
   "metadata": {},
   "outputs": [
    {
     "name": "stdout",
     "output_type": "stream",
     "text": [
      "\n",
      "QM weights: 10, Epochs: 50\n",
      "\n",
      "Test results: [-0.17848355  0.4114703  -0.79011875 -0.0024597  -0.10829291]\n",
      "\n"
     ]
    }
   ],
   "source": [
    "### Test the model\n",
    "print(f'\\nQM weights: {np.prod(shape)}, Epochs: {epochs}')\n",
    "print(f'\\nTest results: {qlinear_model(test_params, X_train_tens[0:5])}\\n')"
   ]
  },
  {
   "cell_type": "markdown",
   "id": "d1fc3801-89f0-4f1e-a479-0dc9e9c9aa25",
   "metadata": {},
   "source": [
    "## Creation and training of the linear model"
   ]
  },
  {
   "cell_type": "code",
   "execution_count": 17,
   "id": "c68f74d0-8ce9-400a-87e1-a95c1b2b3bdc",
   "metadata": {},
   "outputs": [
    {
     "name": "stdout",
     "output_type": "stream",
     "text": [
      "Iter: 000 (000 sec) cost=[0.528581]\n",
      "Iter: 005 (002 sec) cost=[0.123771]\n",
      "Iter: 010 (004 sec) cost=[0.061866]\n",
      "Iter: 015 (005 sec) cost=[0.036531]\n",
      "Iter: 020 (007 sec) cost=[0.02387]\n",
      "Iter: 025 (009 sec) cost=[0.033227]\n",
      "Iter: 030 (011 sec) cost=[0.025554]\n",
      "Iter: 035 (013 sec) cost=[0.025297]\n",
      "Iter: 040 (015 sec) cost=[0.023013]\n",
      "Iter: 045 (017 sec) cost=[0.023492]\n",
      "\n",
      "Training completed: epochs=50, min cost=0.022197 @ 49, time=018 secs\n",
      "\n"
     ]
    }
   ],
   "source": [
    "### Set the random seed\n",
    "np.random.seed(seed)\n",
    "\n",
    "### Select one of the following optimisers built into PennyLane\n",
    "# opt = qml.GradientDescentOptimizer(stepsize=0.5)\n",
    "# opt = qml.RMSPropOptimizer(stepsize=0.1, decay=0.7, eps=1e-08)\n",
    "# opt = qml.NesterovMomentumOptimizer(stepsize=0.5)\n",
    "# opt = RCDOptimizer(h=0.1)\n",
    "opt = qml.AdamOptimizer(stepsize=0.5)\n",
    "\n",
    "### Define the cost function\n",
    "cost_fun = cost_fun_gen(qlinear_model, mse_cost)\n",
    "\n",
    "### Initialise the model weights / parameters\n",
    "params = np.random.uniform(high=np.pi, size=shape, requires_grad=True)\n",
    "\n",
    "### Training loop\n",
    "hist_cost = []\n",
    "hist_params = []\n",
    "prompt_fract = 0.1\n",
    "start_time = time.time() \n",
    "for iter in range(epochs):\n",
    "    params, cost = opt.step_and_cost(lambda p: cost_fun(p, X_train_tens, y_train_tens), params)\n",
    "    hist_cost.append(float(cost))\n",
    "    hist_params.append(params)\n",
    "    elapsed_time = time.time()-start_time\n",
    "    if (prompt_fract == 0) or (iter % int(prompt_fract*epochs) == 0):\n",
    "        print(f'Iter: {iter:03d} ({int(elapsed_time):03d} sec) cost={np.round(cost, 6)}')\n",
    "\n",
    "### Print the training summary\n",
    "train_mse_hist = hist_cost\n",
    "train_min_mse = np.min(train_mse_hist)\n",
    "train_min_mse_iter = np.argmin(train_mse_hist)\n",
    "print(f'\\nTraining completed: epochs={epochs}, '+\\\n",
    "      f'min cost={np.round(train_min_mse, 6)} @ {train_min_mse_iter}, '+\\\n",
    "      f'time={int(elapsed_time):03d} secs\\n')"
   ]
  },
  {
   "cell_type": "markdown",
   "id": "64c25d36-3ba0-4e4f-a929-ff0407d0874f",
   "metadata": {},
   "source": [
    "## Calculate optimum scores"
   ]
  },
  {
   "cell_type": "markdown",
   "id": "225f8207-0955-4195-9ff8-f8aa2a79df98",
   "metadata": {},
   "source": [
    "<font color=\"CornflowerBlue\">Calculate training R2 scores.</font>\n",
    "\n",
    "- <font color=\"CornflowerBlue\">Note that training MSE has already been generated as part of the cost calculations.</font>\n",
    "- <font color=\"CornflowerBlue\">We need to calculate MSE score for every model generated in training.</font>\n",
    "- <font color=\"CornflowerBlue\">All scores will have to be saved in their own history list.</font>\n",
    "- <font color=\"CornflowerBlue\">Afterwards the maximum R2 (best) and its iteration will be saved as well.</font>\n",
    "- <font color=\"CornflowerBlue\">Note that model scoring no longer relies on the gradient system (as was the case in the model training),<br>\n",
    "therefore, we can utilise the *__sklearn__* scoring functions (which do not support gradient calculations).</font>"
   ]
  },
  {
   "cell_type": "code",
   "execution_count": 18,
   "id": "443187b4-9578-43ca-a9f8-335a4d9b53f8",
   "metadata": {},
   "outputs": [
    {
     "name": "stdout",
     "output_type": "stream",
     "text": [
      "\n",
      "Iter#:   0 /  50, MSE train: 0.528581, R2 train: -3.348233\n",
      "Iter#:   5 /  50, MSE train: 0.123771, R2 train: -0.776606\n",
      "Iter#:  10 /  50, MSE train: 0.061866, R2 train: 0.168161\n",
      "Iter#:  15 /  50, MSE train: 0.036531, R2 train: 0.644277\n",
      "Iter#:  20 /  50, MSE train: 0.023870, R2 train: 0.528543\n",
      "Iter#:  25 /  50, MSE train: 0.033227, R2 train: 0.548802\n",
      "Iter#:  30 /  50, MSE train: 0.025554, R2 train: 0.657667\n",
      "Iter#:  35 /  50, MSE train: 0.025297, R2 train: 0.639862\n",
      "Iter#:  40 /  50, MSE train: 0.023013, R2 train: 0.665366\n",
      "Iter#:  45 /  50, MSE train: 0.023492, R2 train: 0.670108\n",
      "\n",
      "Training results: MSE = 0.0222 @ 0049, R2 = 0.6798 @ 0049\n",
      "\n"
     ]
    }
   ],
   "source": [
    "### Calculate training R2\n",
    "train_r2_hist = []\n",
    "train_max_r2 = -float(np.inf)\n",
    "train_max_r2_iter = -1\n",
    "\n",
    "# Accumulate R2 scores\n",
    "print()\n",
    "for iter in range(len(hist_params)):\n",
    "    iter_params = hist_params[iter]\n",
    "    train_pred = qlinear_model(iter_params, X_train_tens)\n",
    "    curr_r2 = r2_score(y_train_tens, train_pred)\n",
    "    train_r2_hist.append(float(curr_r2))\n",
    "    if curr_r2 > train_max_r2:\n",
    "        test_max_r2 = curr_r2\n",
    "        test_max_r2_iter = iter\n",
    "    if (prompt_fract == 0) or (iter % int(prompt_fract*epochs) == 0):\n",
    "        print(f'Iter#: {iter:3d} / {epochs:3d}, '+\n",
    "              f'MSE train: {train_mse_hist[iter]:.6f}, R2 train: {curr_r2:.6f}')\n",
    "\n",
    "# Find the optimum training loss and R2\n",
    "train_max_r2 = np.max(train_r2_hist)\n",
    "train_max_r2_iter = np.argmax(train_r2_hist)\n",
    "\n",
    "# Show training results\n",
    "print(f'\\nTraining results: MSE = {nnp.round(train_min_mse, 5):05.4f} @ {train_min_mse_iter:04d}, '+\n",
    "      f'R2 = {nnp.round(train_max_r2, 5):05.4f} @ {train_max_r2_iter:04d}\\n')"
   ]
  },
  {
   "cell_type": "markdown",
   "id": "71a3f7bb-8af1-428e-aa63-f70b6ab5deb9",
   "metadata": {},
   "source": [
    "<font color=\"LightCoral\">Task 4: Calculate testing MSE and R2 scores.</font>\n",
    "\n",
    "- <font color=\"LightCoral\">We need to calculate MSE and R2 scores for every model generated in training.</font>\n",
    "- <font color=\"LightCoral\">All test scores will have to be saved in their own history list.</font>\n",
    "- <font color=\"LightCoral\">Afterwards the maximum R2 (best) and minimum MSE (best) test scores will need to be saved<br>together with their respective location.</font>\n",
    "- <font color=\"CornflowerBlue\">Note that model scoring no longer relies on the gradient system (as was the case in the model training),<br>\n",
    "therefore, we can utilise the *__sklearn__* scoring functions (which do not support gradient calculations).</font>"
   ]
  },
  {
   "cell_type": "code",
   "execution_count": 19,
   "id": "e778d717-170f-4d9f-ba5c-8fc90f83f152",
   "metadata": {},
   "outputs": [],
   "source": [
    "### Calculate testing MSE and R2\n",
    "..."
   ]
  },
  {
   "cell_type": "markdown",
   "id": "5630b613-a635-42aa-8cfc-66df147f35bb",
   "metadata": {},
   "source": [
    "## Plot costs and scores"
   ]
  },
  {
   "cell_type": "markdown",
   "id": "ca011917-4176-4b00-bfa3-acff733752a6",
   "metadata": {},
   "source": [
    "### Plot MSE performance"
   ]
  },
  {
   "cell_type": "code",
   "execution_count": 20,
   "id": "54703eb0-3282-4b80-b37d-e9abc63bd207",
   "metadata": {},
   "outputs": [],
   "source": [
    "### Plot MSE trainnig and testing scores\n",
    "# train_label = f'Train MSE = {nnp.round(train_min_mse, 5):05.4f} @ {train_min_mse_iter:04d}'\n",
    "# test_label  = f'Test MSE  = {nnp.round(test_min_mse, 5):05.4f} @ {test_min_mse_iter:04d}'\n",
    "# multi_plot_series(\n",
    "#     [train_mse_hist, test_mse_hist], X_list=[0, 0], labels=[train_label, test_label], \n",
    "#     lines=['solid', 'dashed'], # colors=None, markers=None, marker_colors=None,\n",
    "#     rcParams=(12, 6), xlabel='Training iterations', ylabel='MSE',\n",
    "#     legend_cols=2, smooth_weight=0.9, title='Estimator performance (MSE)'\n",
    "# )"
   ]
  },
  {
   "cell_type": "markdown",
   "id": "025750d7-e1cb-44fb-94dd-ff3e81274888",
   "metadata": {},
   "source": [
    "### Plot R2 performance"
   ]
  },
  {
   "cell_type": "code",
   "execution_count": 21,
   "id": "30ed0842-0499-4a65-995d-5e69df551dbb",
   "metadata": {},
   "outputs": [],
   "source": [
    "### Plot R2 trainnig and testing scores\n",
    "# train_label = f'Train R2 = {nnp.round(train_max_r2, 5):05.4f} @ {train_max_r2_iter:04d}'\n",
    "# test_label  = f'Test R2  = {nnp.round(test_max_r2, 5):05.4f} @ {test_max_r2_iter:04d}'\n",
    "# multi_plot_series(\n",
    "#     [train_r2_hist, test_r2_hist], X_list=[0, 0], labels=[train_label, test_label], \n",
    "#     lines=['solid', 'dashed'], # colors=None, markers=None, marker_colors=None,\n",
    "#     rcParams=(12, 6), xlabel='Training iterations', ylabel='R2',\n",
    "#     legend_cols=2, smooth_weight=0.9, title='Estimator performance (R2)'\n",
    "# )"
   ]
  },
  {
   "cell_type": "markdown",
   "id": "2eab02cd-8be6-454a-bb37-37c9d6b27911",
   "metadata": {},
   "source": [
    "### Plot residuals of the expected vs predicted data\n",
    "<font color=\"LightCoral\">Task 5. Create a plot of residuals for training and test predictions.</font>\n",
    "\n",
    "- <font color=\"LightCoral\">Use the best model's parameters to derive predictions for all data.</font>\n",
    "- <font color=\"LightCoral\">Note that the \"best\" is based on the minimum MSE test score.</font>\n",
    "- <font color=\"LightCoral\">Show all results in the original data units of x, y and z axes.</font>\n",
    "- <font color=\"LightCoral\">Calculate residuals as a percentage of maximum expected values:</font>\n",
    "  - <font color=\"LightCoral\">Training residuals as a difference between true training z values <strong><em>zt_tr</em></strong> and their prediction <strong><em>z_tr</em></strong>, resulting in <strong><em>dz_tr</em></strong>.</font>\n",
    "  - <font color=\"LightCoral\">Testing residuals as a difference between true test z values <strong><em>zt_ts</em></strong> and their prediction <strong><em>z_ts</em></strong>, resulting in <strong><em>dz_ts</em></strong>.</font>"
   ]
  },
  {
   "cell_type": "code",
   "execution_count": 22,
   "id": "bccd93fb-87ee-43b9-ab4f-b9ee89369807",
   "metadata": {},
   "outputs": [
    {
     "data": {
      "text/plain": [
       "Ellipsis"
      ]
     },
     "execution_count": 22,
     "metadata": {},
     "output_type": "execute_result"
    }
   ],
   "source": [
    "### Calculate residuals in the original units (dz=expected-predicted)\n",
    "\n",
    "# Find the predictions for training and test data\n",
    "# y_pred_ts = ...\n",
    "# y_pred_tr = ...\n",
    "\n",
    "# Rescale all data to the original units\n",
    "...\n",
    "\n",
    "# Calculate residuals (true-predicted) normalised to the range of values\n",
    "# dz_ts = ...\n",
    "# dz_tr = ..."
   ]
  },
  {
   "cell_type": "code",
   "execution_count": 23,
   "id": "927b4526-0c84-45d7-af8f-c25d60a1f5b8",
   "metadata": {},
   "outputs": [],
   "source": [
    "### Plot residuals\n",
    "..."
   ]
  },
  {
   "cell_type": "markdown",
   "id": "675f46b3-03bc-4cf0-a3d7-725874852d16",
   "metadata": {},
   "source": [
    "**Residuals chart at the start (initial model)** (delete it after generating your charts)"
   ]
  },
  {
   "attachments": {
    "84b58d67-5529-4c5d-b182-2357a87dac6b.png": {
     "image/png": "[encoded data removed]"
    }
   },
   "cell_type": "markdown",
   "id": "fd1f6734-6f9a-4db0-8597-e37675b7c09f",
   "metadata": {},
   "source": [
    "![s02_residuals_chart_small.png](attachment:84b58d67-5529-4c5d-b182-2357a87dac6b.png)"
   ]
  },
  {
   "cell_type": "markdown",
   "id": "404acda2-4c49-4212-94b0-704233397a23",
   "metadata": {},
   "source": [
    "---"
   ]
  },
  {
   "cell_type": "markdown",
   "id": "e8ea776d-ed69-45e7-b98d-94eddb993248",
   "metadata": {},
   "source": [
    "## <font color=\"blue\">Challenge task:</font><br>Apply your model to the Swiss Roll data set 2 (in own time)"
   ]
  },
  {
   "cell_type": "code",
   "execution_count": 24,
   "id": "f8574e62-8d6c-43f1-97b7-179fa7fc0494",
   "metadata": {},
   "outputs": [],
   "source": [
    "from sklearn.datasets import make_swiss_roll\n",
    "\n",
    "np.random.seed(42)\n",
    "data_seed = 42\n",
    "n_samples = 1000 # Reduce to 300\n",
    "noise = 0.2\n",
    "\n",
    "X_raw, y_raw = make_swiss_roll(\n",
    "    n_samples=n_samples,\n",
    "    noise=0,\n",
    "    random_state=data_seed,\n",
    "    hole=False # With the hole it is harder\n",
    ")"
   ]
  },
  {
   "cell_type": "code",
   "execution_count": 25,
   "id": "f54f2d49-c92d-4e56-bc72-5a42c41aa565",
   "metadata": {},
   "outputs": [
    {
     "data": {
      "application/vnd.plotly.v1+json": {
       "config": {
        "plotlyServerURL": "https://plot.ly"
       },
       "data": [
        {
         "hovertemplate": "Feature x=%{x}<br>Feature y=%{y}<br>Feature z=%{z}<br>color=%{marker.color}<extra></extra>",
         "legendgroup": "",
         "marker": {
          "color": {
           "bdata": "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",
           "dtype": "f8"
          },
          "coloraxis": "coloraxis",
          "size": 3,
          "symbol": "circle"
         },
         "mode": "markers",
         "name": "",
         "scene": "scene",
         "showlegend": false,
         "type": "scatter3d",
         "x": {
          "bdata": "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",
          "dtype": "f8"
         },
         "y": {
          "bdata": "kCDSbjIaD0ATyEfchMImQMOjvfH0VDJAe79ayeHALkB0En6eEvAwQOIxTR89qytAcnAYjVsTLUCW8lKcRtUxQO49fGHc+BRAHh7lFUyOJEBDQUdJ45QSQCGsogW0vTRAPi+iVEPTM0DEu7VXrH7qP2GgFiFYoi1AyJBfjCJuM0AjBKw3L1YOQJD++w+M2idADD0yQ6o5M0Cptx9qy8/mP+5+lqepSi1AxrQFbDH6GEAyeG3PjWkzQKxse7xoZDRAP3jWa2DUM0DjXWlSwOojQJDh5F5XGjJAR9tRLUy8MUDaTXzD780aQKYiEeU/aDFA2DKdVn/e6D8yJ+r+FwspQKwZYyscUhNASzAaM1dBBECVgCvjNNv5PyStCDZ/Pi1Ak34h1auMHEDioF88sXAuQEC+Cuaw9fU/EBdx4AB8GkCSnJNBnKgmQN2h/H/tmjBANlu/LXTGGkAeGzuGlUkqQDHSHjEEmzJA/jza0MLdKUCgQeJ/j5ETQGeezRq3ZeA/ZYK5y6ZFMkD+NgrgCZbcP0aj3GxlXjJAJgwEzyE3JkBOs/KNbbgzQFkPjzhCxjBAzF+mzuT0NEA4nQ32tHUdQEyAW3xnHDBAsYeyqY/hIEB600RnnyckQKWJTFHwWipA2pLWXuNYMkAspmvHbqo0QDifPeU8IjBA9xTEFNSLIUALRH40brIhQF4s2CJ8+i5AuP4I66kOFEA8Q9BJRY8CQP1XHn3LyR1AkWL0iskgGEBFaINQz+MYQBKGr0aAnxNA/lFKJ2BJ7D8M3e8IxwXYP8JOft3+vTRA3B8Tr2r3IUDUWU61RyQgQHw+J02RiyxAadgK5FRVEkCyP3jH/fIzQE0JTgtkgzBAjCK42sYK/j+QQKgY1IkhQIQuctgjdjJAj7wzHeHWM0Dhmr5EgKEjQOp2sTVmwylAxkOcw8sPDEC+q8vEhdA0QJpyt0bedRNA1gSzQiDMM0CO4nUyAEkrQC9iHNJihilAPLxhR22IJUBpMH7ZUmATQP/eEBseqA1ARbxi31WFEkDtSBo3VlIPQNE1K88LXzBAC3ho9BdpHUBAX3NKZW/zP6deMU/lWTRAXkV8oDuPMkBAXnGlmHszQDjSQNyf5DRAuAN3CuM2DUBCfnTpZKQgQIkn1ICU2C9ARhN7Gp07LUDgndhQwdoJQFFktzvrITFAqHQKvF7aEkBiR1pX+cwSQNjb7oqMjSZAQMYySUrnKECsAoQ/Fl0oQFJPNvFUvf4/t93mxjptMkD8tt2bdk8WQFadAoAtwgVANNKd4OipMkCOrLwblRE0QMfNV07MGjJAXR/dWvX/MEBoDiRqKYUrQDUg3IXRIidA+IPRzUA6/T90j9NesCchQCipDTtLTh9AehRO0L7RFUCskEGLNmIuQFrRS+mn0yRAQLxodEU7+z+UQKbP0X4SQFguMvJlsixAvlek1XiU+T/lVmmfFuAxQEKg4sHQyyRANZw1UkQvJEC7WkKJkeEoQCTtnyB8UTFAzsFzCUo3HUC+1pqYB3osQOHgCQXAwidA9L80CS1uFkB0SV7Kg3MyQHBnx1j2vjBA66mJk6ynK0Cgu0k1utwxQPPJC9mSNjJAbugAmFHALUBSZoCdyJMxQJoKYpE2Sy1Asz3Oot+QLECMces9T/spQFFQPpU1nS9AYq6D0kmlCkD9AOaqj38yQLzL2OIHTzJAkI3X9Xen4z8idQNCl1cxQNwIOG1vpgVAXovmVWUmHEBoS8VlMzovQI0FBiz2AQtADsFVBmQtMUCSdbynjXkxQFit2wZLUCVALITkEEwqwT9XDuLPdxwYQAq69r4y6SlAIjdYXduaNECzsZtQQokqQJ6O9PLQ0hVAfDFMTtSgKkAdTsw87K0mQEpRdudyYDBAbUDz9wX5AUBQxBhvkvYvQH3uxMCyuyZAyI/0hQs5NEA6Gp56nrccQJE+MVrzkSpAUXy6RZWSM0BVoJAGvTgBQCjDNFSKrjNAJQeMtCXkLEDMWMmNEsv2PxE5v6jrRxlA8DMMLES+LUDvkMK1OqH2P7l7fC1/cyhAsLCbh94NHUCoY+RpFRQqQB9TmvMXve4/NGE5wmFNMkCfTuYIenE0QBmvK/avWDRAxlamqUF8L0DaeHu/v9oFQCuTw4vY2C9AgDmDhbyF4D/goAPq6rvdPw595wXqLhtAqXLMPuSFJECWr8nUtS0wQDViQbnKsixA8JzVjFi6IkAVb2tdEfwWQHGSepOK8DRAJFkJJk3mIUDUDnwzUPUiQBFIESAifQtAzQQLaeWwMEDmA5GmeCItQCrHUQRuixJA8WN1iBau+z8wMbV+upQsQLCDsPhNfStAe1QdQSz0FkCHS8eu1/czQPxHqKOyYAlAtNNWunYoIkBSM2MS4dAzQL1KAHrooCFAxVBQVW7RKkACkf1Z77IgQCjmJEW5CBdAuaFRJN2pNEAGFK/DKDEhQOHPxmStxjJAU8/Un/FQE0C7kJqCmuYRQNsc7PwO7OQ/oNvAwbheK0A6rOhdyvQeQKzePDrKJjJA2hpa8vPfI0BcA6sDAlU0QA8ZR9UUKw9ANUO92Lc9MkAZQgcU/E4wQNLhcNB5MDBA7WWE/I29MUCiAdiqh/YvQHPlLvMeTSpAbnItZ5QMBkA4H5gwi9vlP+UqKmB6VjNAuEH5YznmKUCFh9Y5L7owQNSnAQ1UOSRAfZuQyjC1A0Ag4cCU/QcFQJaxDK4yyyxAsoGuI6YSIkB7QN5uFdgQQEAmmOOfpSRAJCNd9f6S9T83C3ZEW3EoQCShsiVvmBZATiRjf62/MEDC71UIBhIaQFAJSeyGHiNAsOkaPGs8zz8GRZRsl1f4P9OcUzkXfCBAIP/dZk0oJECLN0rCazMpQPz45X7pfxhA1nw5+3EwLUAMLiCcBBAyQNsNQpp6YDBA/AfXrLSf6j+M324jaS4kQB56EE3WoAFAVE4Un+9UFEDYpV9QTLg0QJG+YsRy8AdAdkkIoQv0JEC3tZoTafYpQNcL0ULngC1Aeq6St1eBJ0D8e0H8l0PKP6inQlY5bBtAggXOgm++JUD8/xC/7IX9P2/I3avhcx1AnVlCSf9P5j+BFAcNAmf6PzDlsBS4qyBA9tuG0tZLBkBh9M3+MtYnQBOn45kg9SxAFwKIP/TPMECDs+7lB9AQQAD+E0UXIwxAWIj78ECRAUCd8ybm5boqQHyFNOoGrC1AoBP24dM55T+4W564E6kzQDBgvqdcdvE/qqKRqAS8JkBG6aiW0cctQJiefHtUSjJA0miI2dz9LUDHda4VF9YwQNu/7XSJgxxACISl838cMUBKI8GbKOv6P/Kds8qIyjJA7wEjlrb/JkBIvK71yikxQLFVhoFT/yJABMY2VL8HK0BQahyk4RsmQPR8DfAMui5AzlVxCnxt+z+Y7uquPkf0P6P90zu1wRRAfpoQlrLNCkBUxz1dtU4yQBtm9EL6aRJAc/bbaUB+NEBCn1Brm0wcQBb5Tv6GmA5AmGoDT2uVMEBnrnoObaorQLNJGbCZ7CRAkQmc1kRTJ0BJ/G2G2zQuQP1CfdWwMBNAr4ush0rsNEBmeyvwfHg0QFSSbUFNUCtAbfc7+/XCEEAkb2hm0JEsQGuikuU3Qvg/T78ZFTaZ5D/VIlN8NqUVQKcdaj0fbiNAAKXFPtU7MkC/+i6XhYouQIpasZyUMS9AVg9NgufeIUAhn7hv/A4dQEukj0vRKh9AeUFTo5q9NEBYIqN9EPTqP7xneUwpNTJAt1mWAetNKECRgWc0/msiQIeS02n4dS5AtbfuGapwJECUq9H4hVcyQNLdNFgs6jJAIVVw6Ve2IUC12uqq50AXQB+APWPz4ChAeFlRh90oM0D4xwdoFLIRQGoNMv8iKipA1pSjFYmGKkCR5zxkbsouQO/GS4d2GgZAo7wgzowQLkBjcvR19RYzQLGJSKfPLw5AlTdqtCH0E0A4ephTOGY0QJ10rO90Zw5ADXVunCzxMUDejAu1+KwkQBzLhf90xBRAiSywxiZJMkDg4dwO7LMiQM67yvFQnyVAQSD1UfQsHkANCIBVaOcoQIbQsa/VeAtA6IZjn+hsIECsKGyGj1s0QFtEAr7mrhVACSPMjDuVK0A0p60b41AbQPdVsgcxPjBAYHFUSZ38BUBgSD8Iwl00QONmeyglDyNAXmlHdwfUE0BepZBu5bH4P3fc8q7yhAxANSjbB5zUJUBGUgeT6k4cQMvyobQTaDFAAQpcFOcYIkCyOywKWuQUQGLlOvuK6ylAt2VTxUSvLUD8VItsIxAMQIlu9533KAxABX7drqik6D+nch9iy+0uQD8Kje054StA57laLjvvI0DkBDqlQroxQLD1y2FI6zBArIGJ6bqVKED8ETeP0zsyQFJEK81oShFAHsu3YXDNAkARO9wVsqgWQJ4uKg1iLvM/0qP2fyJPJkCDvSI0MaszQLCfwhVZcOo/VP63A7SDBEAb73FAC/4iQGSCmxiDnDNAx7EV8p6OGkAjzNHlyU0lQNA4z7Hc7+s/NU9Yw/HrCECnfWKgH7g0QGb4jGV6RDRAqOCtq62Ouj/QJDmu8PwzQOfXW0zR1ypA3tWlwu05MkCGrdXoXBkjQIY0fUGwpyVAuoYMFBSIJEBWVgvfHwIsQIL8owQfdgdATeUlp2ok5D+C1wG4ud0ZQCceb0G6mC1AQggyGaj0EEDDPZravkgsQBKS3kU/XjRA3uCxxvaM/z9b4tFm0T8sQBhAu80zoyJAe16H/CE7MkAeh1yv28INQN87uT4dFy1A5aMxMrWZMUAFh7v8PtYzQJ+Kl2VIsixASyIIgZ/hJEDuslzxF/MpQGMExbI7PzJA2OPILDL3J0A7UIDxi2vkPz2VVrrHjDNA9bMSqMr1LEAfOGc232ksQKwS4ePgHRJAfkXXKVasK0DiaMCA1IogQKm8h5UOWitAlu5RYVroAUATFVYYJ6ErQG+H9iLZ/DRA1FVcuQEz8D8tP4bVSYU0QHoLdwsTFyFAp6EZqStJMkC/zXy3Gm4wQFL+AxCP0CdAsqRST84DL0DRJPVP5nIyQKBqxBVR+SBAxDY4Z4V4G0BU5wzO9gksQHS5HdP69jBAX/GNfQsCMEDQJzXSC8EwQGzND01kSyJApnM8P60sMUAb+Dt48zEEQDlbqMZY3iZAOBSsHGT1vj9JAJ7I5EMbQFU6Z4tjyB5ADUN1FqajIEC5SP/UqTUtQAIvIdbGUSBALa2hlFrYIkBtzjokJvQTQHaZKhJoWh9Az2ynwDQXE0BiFqhEBZj4P6Zjon5HWClAQp8fv58QLEAMj3ycwgQqQDeZ4Op8dyNAn9+x1enmH0DCZH8dSCEyQMqXstcqzSVA37tM3ikgJEDvOluAQTvhP8LFJHsxqhxAd32QAbrvH0BJyIN9JMAgQLa3imgDXihAv63AaUtpJkDoBhIQMogpQNQ0kS0DEDBAheY1gJwSMUCpnoFiQikuQPNEPjjlEDRAAH8p4iyB2D9EKIaCAnIQQKTGS905VMQ/+Myf66UxK0ATiGHuz9syQKLQ3+LXcxRA+mi/2rx3M0AUzUe49T/0P9kCQjCHnzNACPkKVUuJHUDeMn4w6AkBQIS4/dgXaCRAPQ3+KrmRFUDWN4kp6O0XQNTHwqH2zxlAyq3FNRHdMEDOxUziD6UmQGPq8FpcJhpAo4AEEE+iKUD8eBlTDRQuQPxvwaqB5hZAi1hS3XpeIUCq2/i8E3oEQOlxlgjfbg5ACA4DEWGbLECEn8vqTHsOQBkV+IOODiZAoNoMWKrHLUB8W6kNkPQBQHDyOLG90ydALesiSCCNFUBNSL3jsTg0QPj69DEVTyRA3i4kFQTtMEA8//UoCRwnQKLWOUhYLO0/4O9WwqSXKkCIvOGOvvozQL1zGcGHRClAnTI6lfUzMUCg205zfpEyQF6VVZ6gKBNAohPK7s/PEUBA5eqARKkpQNXgpMtgQyFAQsJAKBijMUAgZ0U5huYyQIo92Cz5rx1AeiyvHKrlE0AS/GrsGmQwQNaAL9JtFRdANf075F9GMUAOZcagCMwhQB8CwBt/CSxAGosZZMgMAEC/MwlHvDMqQCXI+fRn+SJAOJyN1TajKEBeoPB99DkMQPBIUNPd8i5Ajcidp2UeMkDmCh/NxTQSQFRTv9l9FABAOC92vC/F3z9qczVCevYqQDwdlZ55fylAWGtZMBf2JkD3gLJUynsTQMZt0XEFayBAIJAOP8/3KEB2i369PN0kQLV9uL9VvjRAZbmJOQDsBkCkVAy6MTItQPgC00I8+yBAmiQXlAD8IUApwA12nCMuQHdD1dASFS1AZjZFAv7QNEB9XjFK+5EFQFPoqjyMfQFAtjtFSRdsLkB7BgHu0EooQFTPnAyNBxdA4CcgIVav+j/8Jxrh+sf8PzBYcI4rxzJAo2Q2OuodEEC/YNo1yCkbQJV9G+8EChNAK+r6LtfRHUCmypSuj1P3PyYGnk3uzCVAM5EfJMO39j95/i5yt84wQK3FuJ6+oRNAEmxsRjWuJkCiXu4fTnsyQOkY0sQ7VitAAzz2s1xiJkA4CUwYeT4bQN2X/4Xf+BtA7FfG4FIeLEAOVr5CfuA0QA7M508YzCtA/+y5jEltJ0DG5RdM9K8uQEVRwAfkiSNAaURhKDQ19D+pTbe70J0nQEg9JosxHDRAkYtVz21zDUCEgPa97vosQKI+Ssfg4BBAllamITiBJkBsYOBZ3D0AQAKCEGhj6iJAf6kBo0TCL0BysSiVLTIdQBzIJoAh7StArh//x1a0MEDDDoEJgngzQLAZwkq+tRNA+kad2XHFIEBfqWufG5sJQJZi71+X1zRAwn/kpI53M0CBeQd7nq0mQItJo1/FrjFAkuV8FVfhJUC2eNkWyzAqQKqFF40g8v0/ZCNK5aq4L0APOceVs3QFQG6YVIjwWDFAYw0L2S5sMECL0RRJbMQtQKzs4Rm+TOg/7CLj33h2GUDJaxYD+RkWQIHi/5BfQB5AzqaLsq1y/T8qpWDTFa0zQMMRLVB7QidAel6qqf6pGUDq67djWKwgQHKR8ltSyCJAtMMVHJc5KUA9aRnQlaglQKBgMLimTjNA1T5E81nfJEAXvbxr19U0QN7H5rRC4TFAaBnDYs+DEUB152o/4YozQDyaVaCvjANAgPvlEJwqMUBTh5Rd7PgfQM3TJW39bzJArstkOqw6MkBY8N6qp+wwQMZzziA0lzBAe8IY+dGXGUAf0othWjD7P/DEHsfX7CBA/Mc6PfEmDUCsiSw2HTAtQK5IDU2HEh1AdhWBZOF8NEARl6VVu+sqQICCgs+nRTFAaAIRAp9DBkAz03KaMBoyQDV7tx6+YDNABxW7xuN0JEB9Q3d8bnYpQLZPzROeDzBAjAyrrXVfDUBTjwAolxslQOARlcRsviBA2BD+rUCXCEDGS8fQdd8eQOP4Fczo5/Y/O1aDVnlY4T8xMuJUO7UGQJu8dfO0OTRAo+pTpIoUJ0DvAVKLQkg0QA26npk3KiJA5SzVS0sxGkBCfBmNCUIlQK5MdTKhdSJASGPhPm3AAUBncgAfKuoqQHiLL2GvJRJA2tTpR88FKkDvSSpP9k4rQA2dHe5IiglA3N60rQyd9D+44EDRX2UwQGWZHC/GTyNApG9aXASL8z+/2/q8ZuQ0QPvWBIANavM/KqXPzgQxLUDEL+EFQqg0QDO/yjZUFxRAujWRYNzlB0Aexm8ChmQEQIBcSfegeRlADay7Osf5AEDgiCFmHhItQJ5K9V8X7vQ/wQFThU5lJUAy0XkGPu40QHpWnHfnFzFAPMLo4tbWKUAGDFOIrbkZQOhKscYgNCpAvLsz9L8iJkCQe42gP+UhQJlLooWX9QVASAbwXmKeMkDuE6+kFeQiQN4vOJkpWRBAcY6EDUzkHkA2UQcduWQhQEDedv7XYDFA3TvIYtLPLkBGsMd5yCcwQOjghQPsps0/DNWz33x6IUCGkrKNaTckQE7Yxhxfy9k/ftAc8wXTFUDsOpPcou4vQKjM+3DQCAdAyt1/j6d7JkCukWV4sxMSQBa4KXxSStA/Ho4b0MtCFECkoUUcTH40QCJsa0IQ1TBAR6Y8Ha8mNEBRLDMcaH0kQDU3ldCIbwJAWlikEakDJ0DLGt8QdxUjQNTDUoBDuzFAX00i7FV6AEDb9KqWkYEkQApqKABLNQlAAHgOxdRFG0As5is0EPguQNePAZ0l/iNAi6byBxqTH0BzQcOwaJEgQIxgT774SyNA0JSCuj98MEAzednn2LsyQPykJBjhDzRAIKS6gWSGMECAVOaHgn4aQK4jPwnT5ixASrSm2RthIkC98O7ib2QVQJ4scY6GqDFAq8RByY/S6T9P8ixa3+8yQEj6VELOYSNAOuMZtjDDKkDAQEeVX7ErQM57TiknzDJAYAqx8Hi9KkBlVyuPA8kpQAAQ7VQkZfY/hgYiTezFJUBHNTjodzoJQPA9MEzj+C5AT8LT+2iDJUDdSAAgz5EsQC+fMYsSAew/ajhXVXh9/D9nvrW46BUuQPeBsP9nOPg/Yuls/Dfx9z/g1PklF0bQP+nD1ckmFjRAkO0InLD5LkCftll7UawdQL5j6X2z6BhAOGAxrARgHUBmPPmRiUQwQAt8HYsOxytAiqBzF+QcD0ConacjGEANQF+8itPMhwBAAT3cKJO7K0DOLG52RA0wQJGC9PKOQxZAWjjhNWgm3D8kmZ0BFJz7P7UPHC43UzRAyFE3lz7RGEAvHPn4VycwQFG7H/hhPCpAP+sAcZ0KIECXB5xQGUcRQFMaXUqWZARAD2Yek57UKUD0iW5jbkQwQMABSi9CCytAbcZC/M5FJkDHmD/v8zDsP2CHuH2YVjRALijUMuPFMED0A/tW2JgYQDCUrAtSlDRAcDRNTG5HKUAh4RRbNXYoQJHpO2dIay9ArkmeChMMMUClhZI+dZIrQGof61AkhQVADtopvRpqHECVNrKtYH0zQDVkf1Ui3hJAOqvyZRRDH0DVUiPOsCUiQG9ZyoF7dCJAs/1bjlO+KUDd/LfH+c0zQElRvyfbNxRAphQy/IdpBEBmYDXJZ5YQQF6LKLcboDJAac71AsIfK0Dv3oy8IwQYQM741N6HIjFAWN4uoLkWMkCCqg1w3MYxQEKUzScmTDNAGcKt3jAwFUDyGyn4NbYvQEf3In64VyNA88h2j5WuMUBys61Uu5guQA1c+XQuTjBAq2IIVQ2PK0BApLhE284NQKVIdCIh5CZAmv0Uo5WtNEDwlGrzZa8zQKzGJZ1DA+0/L05ECFuwC0CAKWQeZCEGQHZ5+2m8fS5AM5GI92ksMUCszSAyWe8RQDmCipvtPiVA8BQmlp6nMUC3oasLFccuQCoAO2oixiZAXCknGmvLKECycnaB5FklQOK9nF17/hhAkLXL0B27J0BhAn4P5e4sQDDcI+f7VjJAwt9alme5KkAjBwcqlPcvQEK4YGJc5ApARgKufKpiI0C0rb9QWRXJP9S4yRGVuBRAequgluqCLkAOwHpl+NM0QCmyEqNzqQBALXke7N3cIEBq4Zl4Ls0wQObGwxCVIxFAPbfl+0VQJ0DjhAeK+8kuQN+H+lcT3ylAoRByWpGWD0DXsnCUMNodQOQAaiWqdTBATHiAIQtHJ0D4WuN5SR28P13p6DIs9i9A8PXx2a665z+V044vIVIvQDrH3lckAhFAndQdYJoeNEB2e5+qMugeQOPW8GRWdhtAxm6ulGADCUC1N3CKtqsZQLNg8d7faDJAz84zHEvsNEDu4wvOIPAeQMyuICV21yJAd9sY7LRTLkDq9pFCMJwyQOY7eaVp6ChA4SC7Lq9xIEDMhoKRglQhQJW7r0tJNy1A+DSJkydNsT8oSyAW0wUqQN1i542F3B1AQ4Sk15qtMEA60uXQrj7/Pz4CV8xZtChAY5atpmszJECKQcy3SPoqQEyvX2ByyvU/W/2uVfxbKECHwfAQFZUnQPD3RqM3jCdAvPxNC7NYKUBIjWUdYmksQFKk1PCe5zBAs6Q9ijmqFkDidHgzd1MxQIRxl74+7SRAkAtCtD7k+T/pGzUVUazzPwUMVfd1ExxAH+KTLJt7MEASB9pD/LgtQOF8qhOYjzBAUkf7SK25JUAI7zUGBX0iQL7lkWWjxQhA/wk5/HSRG0Ab/nyDkzoiQH6HmfcNxf0/DR0oGAqIEkCBCfVMHiApQIJLxozZ5S5AZf2swB33NEDdOSnSapgzQD8oKWzc/CpAIN9YUkKxIUD92JrULbgqQCDJ18CpfzBAgHVnJGfhA0DsErQgTDchQK4hNu/GojFArIpizvgeIEBoOP1JxQQoQBm/EDiyryhAhWXgZvT9DkBVSsnMgm0eQIJPPKxUGRxAzTfSEqya4T/hQjXtwUHgPysd6gs0dzFAsVbTXB3wFkC3Z2EFYsIlQImUt3PLFxlANbmFdBfBM0AFInTh6scVQKYgb4irCyJATEldPsxTMkDRSHYfPK4xQMNZGYvZQw9A9HDEqwLbMECFzWvnbD4jQLnjtJ3hSCRAYyxB57RsBkC+5hcSBRX7Pwjcfq3Nki5AbDiGR/PZJEA6mxjNBFkiQH5ySSesoy5ACX5muGUTMEB0zbqNUrIKQJqI8AskoSlAdiRg8U69BkBhAdjwyI4vQABzevOUlytArgGpnMIWNEDnFOAjfiv3P/5732+eK/M/h4phnia0F0A=",
          "dtype": "f8"
         },
         "z": {
          "bdata": "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",
          "dtype": "f8"
         }
        }
       ],
       "layout": {
        "coloraxis": {
         "colorbar": {
          "title": {
           "text": "color"
          }
         },
         "colorscale": [
          [
           0,
           "#30123b"
          ],
          [
           0.07142857142857142,
           "#4145ab"
          ],
          [
           0.14285714285714285,
           "#4675ed"
          ],
          [
           0.21428571428571427,
           "#39a2fc"
          ],
          [
           0.2857142857142857,
           "#1bcfd4"
          ],
          [
           0.35714285714285715,
           "#24eca6"
          ],
          [
           0.42857142857142855,
           "#61fc6c"
          ],
          [
           0.5,
           "#a4fc3b"
          ],
          [
           0.5714285714285714,
           "#d1e834"
          ],
          [
           0.6428571428571429,
           "#f3c63a"
          ],
          [
           0.7142857142857143,
           "#fe9b2d"
          ],
          [
           0.7857142857142857,
           "#f36315"
          ],
          [
           0.8571428571428571,
           "#d93806"
          ],
          [
           0.9285714285714286,
           "#b11901"
          ],
          [
           1,
           "#7a0402"
          ]
         ]
        },
        "height": 600,
        "legend": {
         "tracegroupgap": 0
        },
        "margin": {
         "b": 50,
         "l": 50,
         "pad": 10,
         "r": 50,
         "t": 50
        },
        "paper_bgcolor": "whitesmoke",
        "scene": {
         "domain": {
          "x": [
           0,
           1
          ],
          "y": [
           0,
           1
          ]
         },
         "xaxis": {
          "title": {
           "text": "Feature x"
          }
         },
         "yaxis": {
          "title": {
           "text": "Feature y"
          }
         },
         "zaxis": {
          "title": {
           "text": "Feature z"
          }
         }
        },
        "template": {
         "data": {
          "bar": [
           {
            "error_x": {
             "color": "#2a3f5f"
            },
            "error_y": {
             "color": "#2a3f5f"
            },
            "marker": {
             "line": {
              "color": "#E5ECF6",
              "width": 0.5
             },
             "pattern": {
              "fillmode": "overlay",
              "size": 10,
              "solidity": 0.2
             }
            },
            "type": "bar"
           }
          ],
          "barpolar": [
           {
            "marker": {
             "line": {
              "color": "#E5ECF6",
              "width": 0.5
             },
             "pattern": {
              "fillmode": "overlay",
              "size": 10,
              "solidity": 0.2
             }
            },
            "type": "barpolar"
           }
          ],
          "carpet": [
           {
            "aaxis": {
             "endlinecolor": "#2a3f5f",
             "gridcolor": "white",
             "linecolor": "white",
             "minorgridcolor": "white",
             "startlinecolor": "#2a3f5f"
            },
            "baxis": {
             "endlinecolor": "#2a3f5f",
             "gridcolor": "white",
             "linecolor": "white",
             "minorgridcolor": "white",
             "startlinecolor": "#2a3f5f"
            },
            "type": "carpet"
           }
          ],
          "choropleth": [
           {
            "colorbar": {
             "outlinewidth": 0,
             "ticks": ""
            },
            "type": "choropleth"
           }
          ],
          "contour": [
           {
            "colorbar": {
             "outlinewidth": 0,
             "ticks": ""
            },
            "colorscale": [
             [
              0,
              "#0d0887"
             ],
             [
              0.1111111111111111,
              "#46039f"
             ],
             [
              0.2222222222222222,
              "#7201a8"
             ],
             [
              0.3333333333333333,
              "#9c179e"
             ],
             [
              0.4444444444444444,
              "#bd3786"
             ],
             [
              0.5555555555555556,
              "#d8576b"
             ],
             [
              0.6666666666666666,
              "#ed7953"
             ],
             [
              0.7777777777777778,
              "#fb9f3a"
             ],
             [
              0.8888888888888888,
              "#fdca26"
             ],
             [
              1,
              "#f0f921"
             ]
            ],
            "type": "contour"
           }
          ],
          "contourcarpet": [
           {
            "colorbar": {
             "outlinewidth": 0,
             "ticks": ""
            },
            "type": "contourcarpet"
           }
          ],
          "heatmap": [
           {
            "colorbar": {
             "outlinewidth": 0,
             "ticks": ""
            },
            "colorscale": [
             [
              0,
              "#0d0887"
             ],
             [
              0.1111111111111111,
              "#46039f"
             ],
             [
              0.2222222222222222,
              "#7201a8"
             ],
             [
              0.3333333333333333,
              "#9c179e"
             ],
             [
              0.4444444444444444,
              "#bd3786"
             ],
             [
              0.5555555555555556,
              "#d8576b"
             ],
             [
              0.6666666666666666,
              "#ed7953"
             ],
             [
              0.7777777777777778,
              "#fb9f3a"
             ],
             [
              0.8888888888888888,
              "#fdca26"
             ],
             [
              1,
              "#f0f921"
             ]
            ],
            "type": "heatmap"
           }
          ],
          "histogram": [
           {
            "marker": {
             "pattern": {
              "fillmode": "overlay",
              "size": 10,
              "solidity": 0.2
             }
            },
            "type": "histogram"
           }
          ],
          "histogram2d": [
           {
            "colorbar": {
             "outlinewidth": 0,
             "ticks": ""
            },
            "colorscale": [
             [
              0,
              "#0d0887"
             ],
             [
              0.1111111111111111,
              "#46039f"
             ],
             [
              0.2222222222222222,
              "#7201a8"
             ],
             [
              0.3333333333333333,
              "#9c179e"
             ],
             [
              0.4444444444444444,
              "#bd3786"
             ],
             [
              0.5555555555555556,
              "#d8576b"
             ],
             [
              0.6666666666666666,
              "#ed7953"
             ],
             [
              0.7777777777777778,
              "#fb9f3a"
             ],
             [
              0.8888888888888888,
              "#fdca26"
             ],
             [
              1,
              "#f0f921"
             ]
            ],
            "type": "histogram2d"
           }
          ],
          "histogram2dcontour": [
           {
            "colorbar": {
             "outlinewidth": 0,
             "ticks": ""
            },
            "colorscale": [
             [
              0,
              "#0d0887"
             ],
             [
              0.1111111111111111,
              "#46039f"
             ],
             [
              0.2222222222222222,
              "#7201a8"
             ],
             [
              0.3333333333333333,
              "#9c179e"
             ],
             [
              0.4444444444444444,
              "#bd3786"
             ],
             [
              0.5555555555555556,
              "#d8576b"
             ],
             [
              0.6666666666666666,
              "#ed7953"
             ],
             [
              0.7777777777777778,
              "#fb9f3a"
             ],
             [
              0.8888888888888888,
              "#fdca26"
             ],
             [
              1,
              "#f0f921"
             ]
            ],
            "type": "histogram2dcontour"
           }
          ],
          "mesh3d": [
           {
            "colorbar": {
             "outlinewidth": 0,
             "ticks": ""
            },
            "type": "mesh3d"
           }
          ],
          "parcoords": [
           {
            "line": {
             "colorbar": {
              "outlinewidth": 0,
              "ticks": ""
             }
            },
            "type": "parcoords"
           }
          ],
          "pie": [
           {
            "automargin": true,
            "type": "pie"
           }
          ],
          "scatter": [
           {
            "fillpattern": {
             "fillmode": "overlay",
             "size": 10,
             "solidity": 0.2
            },
            "type": "scatter"
           }
          ],
          "scatter3d": [
           {
            "line": {
             "colorbar": {
              "outlinewidth": 0,
              "ticks": ""
             }
            },
            "marker": {
             "colorbar": {
              "outlinewidth": 0,
              "ticks": ""
             }
            },
            "type": "scatter3d"
           }
          ],
          "scattercarpet": [
           {
            "marker": {
             "colorbar": {
              "outlinewidth": 0,
              "ticks": ""
             }
            },
            "type": "scattercarpet"
           }
          ],
          "scattergeo": [
           {
            "marker": {
             "colorbar": {
              "outlinewidth": 0,
              "ticks": ""
             }
            },
            "type": "scattergeo"
           }
          ],
          "scattergl": [
           {
            "marker": {
             "colorbar": {
              "outlinewidth": 0,
              "ticks": ""
             }
            },
            "type": "scattergl"
           }
          ],
          "scattermap": [
           {
            "marker": {
             "colorbar": {
              "outlinewidth": 0,
              "ticks": ""
             }
            },
            "type": "scattermap"
           }
          ],
          "scattermapbox": [
           {
            "marker": {
             "colorbar": {
              "outlinewidth": 0,
              "ticks": ""
             }
            },
            "type": "scattermapbox"
           }
          ],
          "scatterpolar": [
           {
            "marker": {
             "colorbar": {
              "outlinewidth": 0,
              "ticks": ""
             }
            },
            "type": "scatterpolar"
           }
          ],
          "scatterpolargl": [
           {
            "marker": {
             "colorbar": {
              "outlinewidth": 0,
              "ticks": ""
             }
            },
            "type": "scatterpolargl"
           }
          ],
          "scatterternary": [
           {
            "marker": {
             "colorbar": {
              "outlinewidth": 0,
              "ticks": ""
             }
            },
            "type": "scatterternary"
           }
          ],
          "surface": [
           {
            "colorbar": {
             "outlinewidth": 0,
             "ticks": ""
            },
            "colorscale": [
             [
              0,
              "#0d0887"
             ],
             [
              0.1111111111111111,
              "#46039f"
             ],
             [
              0.2222222222222222,
              "#7201a8"
             ],
             [
              0.3333333333333333,
              "#9c179e"
             ],
             [
              0.4444444444444444,
              "#bd3786"
             ],
             [
              0.5555555555555556,
              "#d8576b"
             ],
             [
              0.6666666666666666,
              "#ed7953"
             ],
             [
              0.7777777777777778,
              "#fb9f3a"
             ],
             [
              0.8888888888888888,
              "#fdca26"
             ],
             [
              1,
              "#f0f921"
             ]
            ],
            "type": "surface"
           }
          ],
          "table": [
           {
            "cells": {
             "fill": {
              "color": "#EBF0F8"
             },
             "line": {
              "color": "white"
             }
            },
            "header": {
             "fill": {
              "color": "#C8D4E3"
             },
             "line": {
              "color": "white"
             }
            },
            "type": "table"
           }
          ]
         },
         "layout": {
          "annotationdefaults": {
           "arrowcolor": "#2a3f5f",
           "arrowhead": 0,
           "arrowwidth": 1
          },
          "autotypenumbers": "strict",
          "coloraxis": {
           "colorbar": {
            "outlinewidth": 0,
            "ticks": ""
           }
          },
          "colorscale": {
           "diverging": [
            [
             0,
             "#8e0152"
            ],
            [
             0.1,
             "#c51b7d"
            ],
            [
             0.2,
             "#de77ae"
            ],
            [
             0.3,
             "#f1b6da"
            ],
            [
             0.4,
             "#fde0ef"
            ],
            [
             0.5,
             "#f7f7f7"
            ],
            [
             0.6,
             "#e6f5d0"
            ],
            [
             0.7,
             "#b8e186"
            ],
            [
             0.8,
             "#7fbc41"
            ],
            [
             0.9,
             "#4d9221"
            ],
            [
             1,
             "#276419"
            ]
           ],
           "sequential": [
            [
             0,
             "#0d0887"
            ],
            [
             0.1111111111111111,
             "#46039f"
            ],
            [
             0.2222222222222222,
             "#7201a8"
            ],
            [
             0.3333333333333333,
             "#9c179e"
            ],
            [
             0.4444444444444444,
             "#bd3786"
            ],
            [
             0.5555555555555556,
             "#d8576b"
            ],
            [
             0.6666666666666666,
             "#ed7953"
            ],
            [
             0.7777777777777778,
             "#fb9f3a"
            ],
            [
             0.8888888888888888,
             "#fdca26"
            ],
            [
             1,
             "#f0f921"
            ]
           ],
           "sequentialminus": [
            [
             0,
             "#0d0887"
            ],
            [
             0.1111111111111111,
             "#46039f"
            ],
            [
             0.2222222222222222,
             "#7201a8"
            ],
            [
             0.3333333333333333,
             "#9c179e"
            ],
            [
             0.4444444444444444,
             "#bd3786"
            ],
            [
             0.5555555555555556,
             "#d8576b"
            ],
            [
             0.6666666666666666,
             "#ed7953"
            ],
            [
             0.7777777777777778,
             "#fb9f3a"
            ],
            [
             0.8888888888888888,
             "#fdca26"
            ],
            [
             1,
             "#f0f921"
            ]
           ]
          },
          "colorway": [
           "#636efa",
           "#EF553B",
           "#00cc96",
           "#ab63fa",
           "#FFA15A",
           "#19d3f3",
           "#FF6692",
           "#B6E880",
           "#FF97FF",
           "#FECB52"
          ],
          "font": {
           "color": "#2a3f5f"
          },
          "geo": {
           "bgcolor": "white",
           "lakecolor": "white",
           "landcolor": "#E5ECF6",
           "showlakes": true,
           "showland": true,
           "subunitcolor": "white"
          },
          "hoverlabel": {
           "align": "left"
          },
          "hovermode": "closest",
          "mapbox": {
           "style": "light"
          },
          "paper_bgcolor": "white",
          "plot_bgcolor": "#E5ECF6",
          "polar": {
           "angularaxis": {
            "gridcolor": "white",
            "linecolor": "white",
            "ticks": ""
           },
           "bgcolor": "#E5ECF6",
           "radialaxis": {
            "gridcolor": "white",
            "linecolor": "white",
            "ticks": ""
           }
          },
          "scene": {
           "xaxis": {
            "backgroundcolor": "#E5ECF6",
            "gridcolor": "white",
            "gridwidth": 2,
            "linecolor": "white",
            "showbackground": true,
            "ticks": "",
            "zerolinecolor": "white"
           },
           "yaxis": {
            "backgroundcolor": "#E5ECF6",
            "gridcolor": "white",
            "gridwidth": 2,
            "linecolor": "white",
            "showbackground": true,
            "ticks": "",
            "zerolinecolor": "white"
           },
           "zaxis": {
            "backgroundcolor": "#E5ECF6",
            "gridcolor": "white",
            "gridwidth": 2,
            "linecolor": "white",
            "showbackground": true,
            "ticks": "",
            "zerolinecolor": "white"
           }
          },
          "shapedefaults": {
           "line": {
            "color": "#2a3f5f"
           }
          },
          "ternary": {
           "aaxis": {
            "gridcolor": "white",
            "linecolor": "white",
            "ticks": ""
           },
           "baxis": {
            "gridcolor": "white",
            "linecolor": "white",
            "ticks": ""
           },
           "bgcolor": "#E5ECF6",
           "caxis": {
            "gridcolor": "white",
            "linecolor": "white",
            "ticks": ""
           }
          },
          "title": {
           "x": 0.05
          },
          "xaxis": {
           "automargin": true,
           "gridcolor": "white",
           "linecolor": "white",
           "ticks": "",
           "title": {
            "standoff": 15
           },
           "zerolinecolor": "white",
           "zerolinewidth": 2
          },
          "yaxis": {
           "automargin": true,
           "gridcolor": "white",
           "linecolor": "white",
           "ticks": "",
           "title": {
            "standoff": 15
           },
           "zerolinecolor": "white",
           "zerolinewidth": 2
          }
         }
        },
        "title": {
         "text": "Interactive 3D Scatter Plot"
        },
        "width": 600
       }
      }
     },
     "metadata": {},
     "output_type": "display_data"
    }
   ],
   "source": [
    "import plotly as ply\n",
    "import plotly.express as px\n",
    "import plotly.io as pio\n",
    "# The following may preserve the chart on saving\n",
    "# pio.renderers.default = 'jupyterlab' # or 'notebook'\n",
    "\n",
    "# Create an interactive 3D scatter plot, of the first two columns\n",
    "fig = px.scatter_3d(x=X_raw[:, 0], y=X_raw[:, 1], z=X_raw[:, 2], \n",
    "                    title='Interactive 3D Scatter Plot',\n",
    "                    labels={'x': 'Feature x', \n",
    "                            'y': 'Feature y', \n",
    "                            'z': 'Feature z'},\n",
    "                    color=y_raw, \n",
    "                    color_continuous_scale = ply.colors.sequential.Turbo)\n",
    "mrg = dict(l = 50, r = 50, b = 50, t = 50, pad = 10)\n",
    "fig.update_traces(marker=dict(size=3, symbol='circle'))\n",
    "fig.update_layout(width=600, height=600, margin = mrg, paper_bgcolor = 'whitesmoke')\n",
    "fig.show()"
   ]
  },
  {
   "cell_type": "markdown",
   "id": "bc78c5f8-3ab4-4376-9776-3660f6afe0e5",
   "metadata": {},
   "source": [
    "---"
   ]
  },
  {
   "cell_type": "markdown",
   "id": "8ff62933-69b9-4ed5-a791-9bdc3cce967c",
   "metadata": {},
   "source": [
    "## Write your observations here\n",
    "\n",
    "- Task 1:\n",
    "- Task 2:\n",
    "- Task 3:\n",
    "- Task 4:\n",
    "- Task 5:\n",
    "- Challenge:\n",
    "- Reflection:"
   ]
  },
  {
   "cell_type": "markdown",
   "id": "f2c6c276-c691-4591-bc0b-58cc75c16445",
   "metadata": {},
   "source": [
    "## Software (Linux)"
   ]
  },
  {
   "cell_type": "code",
   "execution_count": 26,
   "id": "b7dd04a7-3c57-4aab-8b4d-337597353bcf",
   "metadata": {},
   "outputs": [
    {
     "name": "stdout",
     "output_type": "stream",
     "text": [
      "pennylane                 0.42.3\n",
      "pennylane_lightning       0.42.0\n"
     ]
    }
   ],
   "source": [
    "import os\n",
    "os.system('pip list | grep -e pennylane');"
   ]
  }
 ],
 "metadata": {
  "kernelspec": {
   "display_name": "Python 3 (ipykernel)",
   "language": "python",
   "name": "python3"
  },
  "language_info": {
   "codemirror_mode": {
    "name": "ipython",
    "version": 3
   },
   "file_extension": ".py",
   "mimetype": "text/x-python",
   "name": "python",
   "nbconvert_exporter": "python",
   "pygments_lexer": "ipython3",
   "version": "3.11.13"
  },
  "widgets": {
   "application/vnd.jupyter.widget-state+json": {
    "state": {},
    "version_major": 2,
    "version_minor": 0
   }
  }
 },
 "nbformat": 4,
 "nbformat_minor": 5
}
