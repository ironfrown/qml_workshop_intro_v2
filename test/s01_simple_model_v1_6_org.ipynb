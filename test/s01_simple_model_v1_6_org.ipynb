{
 "cells": [
  {
   "cell_type": "markdown",
   "id": "a33358f1-8220-4404-a674-f4e7c1a36d86",
   "metadata": {},
   "source": [
    "###### *Do not delete this style setting*"
   ]
  },
  {
   "cell_type": "code",
   "execution_count": 1,
   "id": "0201d83e-a11a-4757-9c6d-cb1063d164b6",
   "metadata": {},
   "outputs": [
    {
     "data": {
      "text/html": [
       "<style>\n",
       "table {float:left}\n",
       "</style>\n"
      ],
      "text/plain": [
       "<IPython.core.display.HTML object>"
      ]
     },
     "metadata": {},
     "output_type": "display_data"
    }
   ],
   "source": [
    "%%html\n",
    "<style>\n",
    "table {float:left}\n",
    "</style>"
   ]
  },
  {
   "cell_type": "markdown",
   "id": "2a491e81-a6b4-4bf2-8dd8-cd67c5613d3e",
   "metadata": {},
   "source": [
    "# Session 1:<br>A simple QML model in PennyLane\n",
    "<table>\n",
    "    <tr><td><strong>Aim:</strong></td>\n",
    "        <td>To explore the process of developing a <strong>PennyLane</strong> quantum model.<br/>Watch out for modeling pits and traps!</td></tr>\n",
    "    <tr><td><strong>Author:</strong></td>\n",
    "        <td>Jacob L. Cybulski (<a href=\"https://jacobcybulski.com/\" target=\"_blank\">website</a>),\n",
    "            <em>Enquanted</em></td></tr>\n",
    "    <tr><td><strong>Release:</strong></td>\n",
    "        <td>September 2025</td></tr>\n",
    "    <tr><td><strong>Datasets:</strong></td>\n",
    "        <td>Use the following two data sets (code below):<br>\n",
    "            <ol><li>$y = sin(x)$</li><li>$y = sin(0.7 x+0.5\\pi)$</li></ol></td></tr>\n",
    "    <tr><td><strong>Tasks:</strong></td>\n",
    "        <td>Time: 40 minutes (unfinished tasks go to self-directed \"challenges\").<br>\n",
    "            All tasks listed in this table have been colour-coded across the notebook.<br>\n",
    "            To make changes, you will need to hunt for the relevant section.</td></tr>\n",
    "    <tr>\n",
    "        <td></td>\n",
    "        <td>Perform the following tasks and observe their impact on the model performance.<br>\n",
    "            (Record your observations at end of this notebook):<br><ol>\n",
    "            <li>Initially use <strong><em>the first dataset</em></strong> and the <strong><em>simplistic model 1</em></strong> (as provided).<br>\n",
    "                Follow the instructor demonstration to step through the code.</li>\n",
    "            <li>Can the model performance be improved by trivial changes, such as:<br>\n",
    "                - alter the range of model init values ? (reduce \"high\" for training)</li>\n",
    "            <li>Can you improve the quantum model by changing the ansatz size, by:<br>\n",
    "                (you may need to increase the number of epochs):<br>\n",
    "                - using more qubits or more layers ? (those of you with big computers)<br>\n",
    "                - using fewer qubits or fewer layers ? (those of you with tiny laptops)</li>\n",
    "            <li>Can the model work with a single qubit and single layer ?</li>\n",
    "            <li>Change the data encoding gate from RY to RX ?<br>\n",
    "                - what happens and why?<br>\n",
    "                - can the performance be further improved by changing the training epochs?</li>\n",
    "            <li>Change entangling from basic (R with 1 param) to strong (R with 3 params).<br>\n",
    "                - what is the reason for the result ?</li><br>\n",
    "                <em>The tasks below will be demonstrated by your instructor.</em><br>\n",
    "                <em>However, we would like you to attempt them as challenge tasks.</em><br><br>\n",
    "            <li>Try the current model with <strong><em>the second data set</em></strong><br>\n",
    "                by commenting / uncommenting code in Data Generation section<br>\n",
    "                Can you improve the model performance by varying:<br>\n",
    "                - the number of qubits ?<br>\n",
    "                - the number of layers ?<br>\n",
    "                - by increasing data range (say: -6..12) ?<br>\n",
    "                - by adding more training data (say: 96) ?</li>\n",
    "            <li>Can you improve the result by data reuploading, i.e. by implementing: <br>\n",
    "                - <strong><em>partial reuploading:</em></strong> for all qubits within encoding block, as in <strong><em>model 2</em></strong> ?<br>\n",
    "                - <strong><em>full reuploading:</em></strong> in between entangling blocks, as in <strong><em>model 3</em></strong> ?</li>\n",
    "            <li>Reflect on this session.</li>\n",
    "        </ol></td>\n",
    "    </tr>\n",
    "    <tr>\n",
    "        <td><strong>Challenge<br>Tasks:</strong></td>\n",
    "        <td>Perform the following tasks in your own time:<br/>\n",
    "        <ol style=\"list-style-type: upper-alpha;\">\n",
    "            <li>Complete the unfinished tasks.</li>\n",
    "            <li>Is there a way of improving the model results for <strong><em>the second data set</em></strong> ?<br>\n",
    "                <em>The answer will be revealed on <strong>day 2</strong> of the workshop !</em></li>\n",
    "            <li>Experiment with different optimisers and their hyper-parameters.</li>\n",
    "            <li>Write your own optimiser - see example at the end of the notebook.</li></ol>\n",
    "        </td>\n",
    "    </tr>\n",
    "    <tr><td><strong>References:</strong></td>\n",
    "        <td><a href=\"https://pennylane.ai/qml/demos/tutorial_expressivity_fourier_series\" target=\"_blank\">\n",
    "            Maria Schuld and Johannes Jakob Meyer, \"Quantum models as Fourier series\",<br>PennyLane, November 6, 2024.</a></td>\n",
    "    </tr>\n",
    "    <tr><td><strong>License:</strong></td>\n",
    "        <td>This project is licensed under the\n",
    "            <a href=\"https://creativecommons.org/licenses/by/4.0/\" target=\"_blank\">Creative Commons CC-BY</a></td></tr>\n",
    "    <tr><td><strong>Changes:</strong></td>\n",
    "        <td>All significant changes to this code must be listed at the bottom of this notebook</td></tr>\n",
    "</table>"
   ]
  },
  {
   "cell_type": "markdown",
   "id": "5129c421-0711-46ee-af4f-9231562927e4",
   "metadata": {},
   "source": [
    "## Load the necessary packages\n",
    "<font color=\"LightCoral\">Task 1: Follow the instructor demonstration to step through the code.</font>\n",
    "\n",
    "<font color=\"CornflowerBlue\">Note that PennyLane redefines <strong><em>numpy</em></strong> -<br>\n",
    "This is necessary to ensure that all mathematical operations are differentiable !</font>"
   ]
  },
  {
   "cell_type": "code",
   "execution_count": 2,
   "id": "96c9c47e-88f9-4a2f-88d3-099f144325a8",
   "metadata": {},
   "outputs": [],
   "source": [
    "import time\n",
    "import copy\n",
    "\n",
    "import pennylane as qml\n",
    "from pennylane import numpy as np\n",
    "from matplotlib import pyplot as plt\n",
    "\n",
    "%matplotlib inline"
   ]
  },
  {
   "cell_type": "markdown",
   "id": "5e5815c9-39ab-47f8-b17f-e05ea14211bd",
   "metadata": {},
   "source": [
    "## Settings"
   ]
  },
  {
   "cell_type": "markdown",
   "id": "bb59562c-968e-4ea1-b3cf-3715564ab628",
   "metadata": {},
   "source": [
    "<font color=\"LightCoral\">Task 3: Experiment with the model size.</font>\n",
    "- <font color=\"LightCoral\">Change the model <em>width</em>, i.e. the number of qubits <em><strong>n_qubits</strong></em> (e.g. try 4).</font>\n",
    "- <font color=\"LightCoral\">Change the model <em>depth</em>, i.e. the number of layers <em><strong>n_layers</strong></em> (e.g. try 1, 2 and 6).</font>\n",
    "\n",
    "<font color=\"CornflowerBlue\">When increasing the model size, you may also need<br>to increase the number of training <em><strong>epochs</strong></em> (e.g. use 50).</font>\n",
    "\n",
    "<font color=\"LightCoral\">Task 4: Experiment with the model of a single qubit and single layer.</font><br>\n",
    "- <font color=\"LightCoral\">Change <em><strong>n_qubits=1</strong></em> and <em><strong>n_layers=1</strong></em>, then observe the model training performance.</font>\n",
    "- <font color=\"LightCoral\">What happened ? What do you think is the reason for the result ?</font>"
   ]
  },
  {
   "cell_type": "code",
   "execution_count": 3,
   "id": "25a95ca0-f660-4d08-9f4d-b31eca3180e9",
   "metadata": {},
   "outputs": [],
   "source": [
    "n_sample = 64\n",
    "n_qubits = 2\n",
    "n_layers = 4 # 6 (fast computers) # 2 and 1 (slow computers)\n",
    "epochs = 50 # 50 (preferred) # 100 # 300 (may take hours)\n",
    "seed = 2025\n",
    "\n",
    "np.random.seed(seed)"
   ]
  },
  {
   "cell_type": "markdown",
   "id": "77e541e9-a365-42f4-a209-bbaa812e56cc",
   "metadata": {},
   "source": [
    "---"
   ]
  },
  {
   "cell_type": "markdown",
   "id": "4448b750-ed04-4e06-b459-2e00aff157c1",
   "metadata": {},
   "source": [
    "## <font color=\"blue\">Data preparation</font>"
   ]
  },
  {
   "cell_type": "markdown",
   "id": "abf25ca4-18d7-4462-b0dd-fa6b252ea6f7",
   "metadata": {},
   "source": [
    "<font color=\"LightCoral\">Task 7: Change to data set 2.<br>\n",
    "Can you improve the model performance by varying (see the relevant sections):</font>\n",
    "- <font color=\"LightCoral\">the number of qubits ?</font>\n",
    "- <font color=\"LightCoral\">the number of layers ?</font>\n",
    "- <font color=\"LightCoral\">by increasing data range (say: -6..12) ?</font>\n",
    "- <font color=\"LightCoral\">by adding more training data (say: 96) ?</font>\n",
    "\n",
    "<font color=\"CornflowerBlue\">Data sets can be switched by commenting / uncommenting code responsible for generating X and y vectors.</font>"
   ]
  },
  {
   "cell_type": "code",
   "execution_count": 4,
   "id": "fd8b5029-2207-4d7a-be0d-a0e132078c30",
   "metadata": {},
   "outputs": [
    {
     "data": {
      "image/png": "[encoded data removed]",
      "text/plain": [
       "<Figure size 640x480 with 1 Axes>"
      ]
     },
     "metadata": {},
     "output_type": "display_data"
    }
   ],
   "source": [
    "### Generate data set #1\n",
    "# X = np.linspace(-6, 6, n_sample, requires_grad=False)\n",
    "# X = X.reshape((X.shape[0], 1))\n",
    "# y = np.sin(X[:,0], requires_grad=False)\n",
    "\n",
    "### Switch to data set #2\n",
    "X = np.linspace(-6, 6, n_sample, requires_grad=False)\n",
    "X = X.reshape((X.shape[0], 1))\n",
    "y = (np.sin(0.7*X[:,0]+0.5*np.pi, requires_grad=False)+1.0)*0.5\n",
    "X = X / 4\n",
    "\n",
    "plt.title('Original vs Prediction')\n",
    "plt.xlabel('Range')\n",
    "plt.ylabel('Value')\n",
    "plt.plot(X[:,0],y,'.-')\n",
    "plt.show()"
   ]
  },
  {
   "cell_type": "markdown",
   "id": "cf9dbc74-5f4b-47d0-ba64-73dc460ca2d1",
   "metadata": {},
   "source": [
    "---"
   ]
  },
  {
   "cell_type": "markdown",
   "id": "51fbaae4-1167-4eed-9e2f-7e6d9fded81a",
   "metadata": {},
   "source": [
    "## <font color=\"blue\">Model development</font>"
   ]
  },
  {
   "cell_type": "markdown",
   "id": "e7cdd2a1-dc97-4691-9a62-32ef5b84205e",
   "metadata": {},
   "source": [
    "## Alternative model definitions"
   ]
  },
  {
   "cell_type": "code",
   "execution_count": 5,
   "id": "045c7311-9909-4625-bf29-f5e87178177c",
   "metadata": {},
   "outputs": [],
   "source": [
    "### A range of sample models to try (select below)\n",
    "#   Device based on the lightning qubit could make it faster (not always)\n",
    "#   Selected differential methods include 'adjoint' and 'parameter-shift' \n",
    "\n",
    "dev = qml.device('default.qubit', wires=n_qubits, shots=None)\n",
    "# dev = qml.device('lightning.qubit', wires=n_qubits, shots=None)"
   ]
  },
  {
   "cell_type": "markdown",
   "id": "912cd7ed-6565-4e7f-a6c3-db5703b4ffee",
   "metadata": {},
   "source": [
    "### Simplistic model"
   ]
  },
  {
   "cell_type": "markdown",
   "id": "f6c7d4c8-ac46-4adc-8f38-b3950e9d7def",
   "metadata": {},
   "source": [
    "<font color=\"LightCoral\">Task 5: Change the data encoding gate from RY to RX.</font>\n",
    "- <font color=\"LightCoral\">What was the impact of this change on the model performance? Why?</font>\n",
    "- <font color=\"LightCoral\">Can the performance be further improved by changing the training epochs?</font>\n",
    "\n",
    "<font color=\"LightCoral\">Task 6: Change entangling from basic (R with 1 param) to strong (R with 3 params).<br>\n",
    "- <font color=\"LightCoral\">What is the reason for the result ?</font>\n",
    "\n",
    "<font color=\"CornflowerBlue\">Ensure the ansatz shape matches parameter initialisation!<br>\n",
    "Cf. sections: \"Model visualisation\" and \"Model initialisation\".</font>"
   ]
  },
  {
   "cell_type": "code",
   "execution_count": 6,
   "id": "bc3d8450-04e7-4c6e-bc3a-511a05409f2f",
   "metadata": {},
   "outputs": [],
   "source": [
    "@qml.qnode(dev, diff_method='adjoint')\n",
    "def qnn_model_1(params, x):\n",
    "    \n",
    "    # Data encoding\n",
    "    qml.RX(x, wires=0)\n",
    "    \n",
    "    # Ansatz, note:\n",
    "    #   basic entangling  - 1 trainable parameter / layer per qubit)\n",
    "    #   strong entangling - 3 trainable parameters / layer per qubit)\n",
    "    # qml.BasicEntanglerLayers(params, wires=range(n_qubits), rotation=qml.RY)\n",
    "    qml.StronglyEntanglingLayers(params, wires=range(n_qubits))\n",
    "    \n",
    "    return qml.expval(qml.PauliZ(0))"
   ]
  },
  {
   "cell_type": "markdown",
   "id": "3b748266-fd52-423c-8562-7264e39bdb09",
   "metadata": {},
   "source": [
    "### Data reuploading models\n",
    "\n",
    "<font color=\"LightCoral\">Task 8: Can you improve the result by data reuploading, i.e. by implementing:</font>\n",
    "- <font color=\"LightCoral\"><strong>partial reuploading:</strong> for all qubits within the encoding block, as in <strong><em>model 2</em></strong> ?</font>\n",
    "- <font color=\"LightCoral\"><strong>full reuploading:</strong> for all qubits and layers, in between the entangling blocks, as in <strong><em>model 3</em></strong> ?</font>\n",
    "\n",
    "<font color=\"CornflowerBlue\">When changing the model, make sure to assign the new model name to the variable <strong><em>qnn_model</em></strong>.<br>\n",
    "See the section immediately following definitions of models <strong><em>qnn_model_2</em></strong> and <strong><em>qnn_model_3</em></strong>.</font>"
   ]
  },
  {
   "cell_type": "code",
   "execution_count": 7,
   "id": "4cc3a86b-5e34-4909-8ab2-3cce842783b6",
   "metadata": {},
   "outputs": [],
   "source": [
    "### Partial data reuploading model\n",
    "#   Notes: encoding relies on data to be reuploaded into each qubit\n",
    "#          this model is to be used for the more complex dataset 2\n",
    "@qml.qnode(dev, diff_method='adjoint')\n",
    "def qnn_model_2(params, x):\n",
    "\n",
    "    # Data encoding\n",
    "    for q in range(n_qubits):\n",
    "        qml.RY(x, wires=q)\n",
    "        \n",
    "    # Ansatz\n",
    "    qml.StronglyEntanglingLayers(params, wires=range(n_qubits))\n",
    "    \n",
    "    return qml.expval(qml.PauliZ(0))"
   ]
  },
  {
   "cell_type": "code",
   "execution_count": 8,
   "id": "f6360b1d-e314-4656-9586-d966ce9f9253",
   "metadata": {},
   "outputs": [],
   "source": [
    "### Full data reuploading model\n",
    "#   Notes: encoding parameters are intermixed with trainable parameters\n",
    "#          this model is to be used for the more complex dataset 2\n",
    "@qml.qnode(dev, diff_method='parameter-shift')\n",
    "def qnn_model_3(params, x):\n",
    "    for l in range(n_layers):\n",
    "        for q in range(n_qubits):\n",
    "            qml.RY(x, wires=q)\n",
    "        qml.StronglyEntanglingLayers([params[l]], wires=range(n_qubits))\n",
    "    return qml.expval(qml.PauliZ(0))"
   ]
  },
  {
   "cell_type": "markdown",
   "id": "9e392d85-2834-4d33-ab44-50e46809e73b",
   "metadata": {},
   "source": [
    "### Select the model"
   ]
  },
  {
   "cell_type": "code",
   "execution_count": 9,
   "id": "bcce8f03-bd13-4fe0-a41b-ecba712553b8",
   "metadata": {},
   "outputs": [],
   "source": [
    "qnn_model = qnn_model_3"
   ]
  },
  {
   "cell_type": "markdown",
   "id": "cd6e9827-66ef-43cb-9a5d-be82fa934bf1",
   "metadata": {},
   "source": [
    "## Loss and cost function\n",
    "<font color=\"CornflowerBlue\">Observe that we differentiate the concept of a <strong><em>loss</em></strong> from the <strong><em>cost</em></strong>,\n",
    "which have many definitions and interpretations.<br>\n",
    "We consider <em>loss</em> as the error generated at a single data point, wheareas <em>cost</em> as an aggregation of losses across all data points.<br>\n",
    "In this context, <strong><em>mse_cost</em></strong> is used as an <strong><em>objective function</em></strong> that guides the optimisation process, and which we aim to minimise.<br>\n",
    "Also note that for the model training purposes, <em>mse_cost</em> defined here cannot be replaced by sklearn <em>mean_squared_error</em>,<br>\n",
    "as it does not understand gradients. When we switch to PyTorch, we will use its full suite of gradient-aware loss/cost functions.</font>"
   ]
  },
  {
   "cell_type": "code",
   "execution_count": 10,
   "id": "e95f82ef-5173-4963-9891-f5da118a9987",
   "metadata": {},
   "outputs": [],
   "source": [
    "### Our own gradient-friendly cost function\n",
    "def mse_cost(targets, predictions):\n",
    "    cost = 0\n",
    "    for l, p in zip(targets, predictions):\n",
    "        loss = (l - p) ** 2\n",
    "        cost = cost + loss\n",
    "    cost = cost / len(targets)\n",
    "    return cost\n",
    "\n",
    "### Note that this cost function uses global variables\n",
    "### which is not ideal - we will will show later how to improve this\n",
    "def cost_fun(params, inputs, targets):\n",
    "    preds = [qnn_model(params, x) for x in inputs]\n",
    "    return mse_cost(targets, preds)"
   ]
  },
  {
   "cell_type": "markdown",
   "id": "7264b445-07a9-454c-92d9-0364acfacb95",
   "metadata": {},
   "source": [
    "## Model visualisation"
   ]
  },
  {
   "cell_type": "code",
   "execution_count": 11,
   "id": "4a3a1b18-7dad-409e-a954-7d9f6c1e515e",
   "metadata": {},
   "outputs": [
    {
     "name": "stdout",
     "output_type": "stream",
     "text": [
      "BasicEntanglerLayers shape: (4, 2)\n",
      "StronglyEntanglingLayers shape: (4, 2, 3)\n"
     ]
    }
   ],
   "source": [
    "### Check the shape of your ansatz parameters\n",
    "\n",
    "print(f'BasicEntanglerLayers shape: {qml.BasicEntanglerLayers.shape(n_layers=n_layers, n_wires=n_qubits)}')\n",
    "print(f'StronglyEntanglingLayers shape: {qml.StronglyEntanglingLayers.shape(n_layers=n_layers, n_wires=n_qubits)}')"
   ]
  },
  {
   "cell_type": "code",
   "execution_count": 12,
   "id": "dbdd95c6-cd3f-427c-aefa-96f924ba1075",
   "metadata": {},
   "outputs": [
    {
     "data": {
      "text/plain": [
       "array([-0.74939635])"
      ]
     },
     "execution_count": 12,
     "metadata": {},
     "output_type": "execute_result"
    }
   ],
   "source": [
    "### Check if the model works\n",
    "### - Note that the shape of test params must match the model\n",
    "\n",
    "# For reproducibility\n",
    "np.random.seed(seed)\n",
    "\n",
    "### Uncomment only the initialisation matching the ansatz (or else you'll get an error)\n",
    "# test_params = np.random.uniform(high=np.pi, size=(n_layers, n_qubits), requires_grad=True)\n",
    "test_params = np.random.uniform(high=np.pi, size=(n_layers, n_qubits, 3), requires_grad=True)\n",
    "test_data = X[0]\n",
    "qnn_model(test_params, test_data)"
   ]
  },
  {
   "cell_type": "code",
   "execution_count": 13,
   "id": "b70b6697-3717-4e64-8e49-9895f02cc0bd",
   "metadata": {},
   "outputs": [
    {
     "name": "stdout",
     "output_type": "stream",
     "text": [
      "\n",
      "0: ──RY(M0)──Rot(0.43,2.79,2.93)─╭●─╭X──RY(M0)──Rot(2.07,1.55,3.03)─╭●─╭X──RY(M0) ···\n",
      "1: ──RY(M0)──Rot(1.40,1.22,0.81)─╰X─╰●──RY(M0)──Rot(2.52,1.43,2.52)─╰X─╰●──RY(M0) ···\n",
      "\n",
      "0: ··· ──Rot(0.13,2.42,0.01)─╭●─╭X──RY(M0)──Rot(0.94,0.78,2.09)─╭●─╭X─┤  <Z>\n",
      "1: ··· ──Rot(0.92,1.92,2.87)─╰X─╰●──RY(M0)──Rot(3.10,1.47,0.39)─╰X─╰●─┤     \n",
      "\n",
      "M0 = \n",
      "[-1.5]\n",
      "\n"
     ]
    }
   ],
   "source": [
    "### Plot the model circuit (in a \"standard\" text format)\n",
    "### - Note that in PennyLane many utilities return functions \n",
    "\n",
    "print(f\"\\n{qml.draw(qnn_model, decimals=2, level='device')(test_params, test_data)}\\n\")"
   ]
  },
  {
   "cell_type": "code",
   "execution_count": 14,
   "id": "9b070a8e-ac36-4576-91a1-8ca6383e0ffb",
   "metadata": {},
   "outputs": [
    {
     "data": {
      "image/png": "[encoded data removed]",
      "text/plain": [
       "<Figure size 950x150 with 1 Axes>"
      ]
     },
     "metadata": {},
     "output_type": "display_data"
    }
   ],
   "source": [
    "### Plot the model circuit nicely using matplotlib functions\n",
    "### - Note that a more flexible circuit drawer can be found in utilities.py\n",
    "\n",
    "qml.drawer.use_style('pennylane')\n",
    "fig, ax = qml.draw_mpl(qnn_model, decimals=2, level='device')(test_params, test_data)\n",
    "fig.set_dpi(fig.get_dpi()*0.5)\n",
    "plt.show()"
   ]
  },
  {
   "cell_type": "markdown",
   "id": "16c292ee-c8a5-4244-a08b-5f092bcd8fd8",
   "metadata": {},
   "source": [
    "## Model training"
   ]
  },
  {
   "cell_type": "markdown",
   "id": "8039fa0f-9ef6-49fa-8c48-7eaca41f770e",
   "metadata": {},
   "source": [
    "### Model initialisation\n",
    "<font color=\"CornflowerBlue\">Ensure that the shape of randomly initialised parameters matches exactly the shape of the ansatz!<br>\n",
    "Comment/uncomment only the required selection of the optimiser and ansatz initialisation.</font>\n",
    "\n",
    "<font color=\"LightCoral\">Task 2: Change the range of initialisation values.<br>\n",
    "Replace <strong>high=np.pi</strong> with <strong>high=0.1</strong> then <strong>high=0.01</strong>.</font>"
   ]
  },
  {
   "cell_type": "code",
   "execution_count": 15,
   "id": "8c41adea-839b-42eb-8376-8071acb9b633",
   "metadata": {},
   "outputs": [],
   "source": [
    "### For reproducibility\n",
    "np.random.seed(seed)\n",
    "\n",
    "### Select one of the following optimisers built into PennyLane\n",
    "# opt = qml.GradientDescentOptimizer(stepsize=0.5)\n",
    "# opt = qml.RMSPropOptimizer(stepsize=0.1, decay=0.7, eps=1e-08)\n",
    "# opt = qml.NesterovMomentumOptimizer(stepsize=0.5)\n",
    "# opt = RCDOptimizer(h=0.1)\n",
    "opt = qml.AdamOptimizer(stepsize=0.5)\n",
    "\n",
    "### Select the random initial parameters to match the ansatz shape\n",
    "# init_params = np.random.uniform(high=0.1, size=(n_layers, n_qubits), requires_grad=True)\n",
    "init_params = np.random.uniform(high=0.1, size=(n_layers, n_qubits, 3), requires_grad=True)    "
   ]
  },
  {
   "cell_type": "markdown",
   "id": "aac0b427-bfd6-4934-92d6-4ec433314f1b",
   "metadata": {},
   "source": [
    "### Training loop"
   ]
  },
  {
   "cell_type": "code",
   "execution_count": 16,
   "id": "d107a86a-4fd5-42b6-999b-adcd52bdb7c8",
   "metadata": {},
   "outputs": [
    {
     "name": "stdout",
     "output_type": "stream",
     "text": [
      "Iter: 000 (000 sec) cost=[0.237395]\n",
      "Iter: 005 (004 sec) cost=[0.0971]\n",
      "Iter: 010 (007 sec) cost=[0.021435]\n",
      "Iter: 015 (010 sec) cost=[0.02965]\n",
      "Iter: 020 (013 sec) cost=[0.004721]\n",
      "Iter: 025 (017 sec) cost=[0.004438]\n",
      "Iter: 030 (020 sec) cost=[0.002005]\n",
      "Iter: 035 (023 sec) cost=[0.001351]\n",
      "Iter: 040 (027 sec) cost=[0.001273]\n",
      "Iter: 045 (030 sec) cost=[0.001154]\n",
      "\n",
      "Training completed: epochs=50, min cost=0.000639 @ 44, time=033 secs\n",
      "\n"
     ]
    }
   ],
   "source": [
    "### For reproducibility\n",
    "np.random.seed(seed)\n",
    "\n",
    "### Prepare training\n",
    "hist_cost = []\n",
    "prompt_fract = 0.1\n",
    "params = copy.deepcopy(init_params)\n",
    "\n",
    "### Training loop\n",
    "start_time = time.time() \n",
    "for iter in range(epochs):\n",
    "    params, cost = opt.step_and_cost(lambda p: cost_fun(p, X, y), params)\n",
    "    elapsed_time = time.time()-start_time\n",
    "    hist_cost.append(cost)\n",
    "    if (prompt_fract == 0) or (iter % int(prompt_fract*epochs) == 0):\n",
    "        print(f'Iter: {iter:03d} ({int(elapsed_time):03d} sec) cost={np.round(cost.numpy(), 6)}')\n",
    "\n",
    "### Print the training summary\n",
    "min_cost = np.min(hist_cost)\n",
    "min_iter = np.argmin(hist_cost)\n",
    "print(f'\\nTraining completed: epochs={epochs}, min cost={np.round(min_cost, 6)} @ {min_iter}, time={int(elapsed_time):03d} secs\\n')"
   ]
  },
  {
   "cell_type": "markdown",
   "id": "6e24fae6-5d67-4569-aa59-130c09e0bfa1",
   "metadata": {},
   "source": [
    "## Plot the results\n",
    "*Note that a more flexible performance and multi-curve plotters can be found in utilities.py*"
   ]
  },
  {
   "cell_type": "code",
   "execution_count": 17,
   "id": "740c2d4d-bebe-4aeb-a277-eb196e6a10dd",
   "metadata": {},
   "outputs": [
    {
     "data": {
      "image/png": "[encoded data removed]",
      "text/plain": [
       "<Figure size 640x480 with 1 Axes>"
      ]
     },
     "metadata": {},
     "output_type": "display_data"
    }
   ],
   "source": [
    "### Show training performance\n",
    "plt.title(f'Training Performance (min cost={np.round(min_cost, 6)} @ epoch #{min_iter})')\n",
    "plt.xlabel('Epoch')\n",
    "plt.ylabel('Cost (MSE)')\n",
    "plt.plot(hist_cost,'-')\n",
    "plt.show()"
   ]
  },
  {
   "cell_type": "code",
   "execution_count": 18,
   "id": "2b26716f-7e3c-4754-9415-4696fc983502",
   "metadata": {},
   "outputs": [
    {
     "data": {
      "image/png": "[encoded data removed]",
      "text/plain": [
       "<Figure size 640x480 with 1 Axes>"
      ]
     },
     "metadata": {},
     "output_type": "display_data"
    }
   ],
   "source": [
    "### Plot original vs prediction\n",
    "y_pred = [qnn_model(params, x) for x in X]\n",
    "\n",
    "plt.title('Original vs Prediction')\n",
    "plt.xlabel('Range')\n",
    "plt.ylabel('Value')\n",
    "plt.plot(X[:,0], y, '.-', label='Original')\n",
    "plt.plot(X[:,0], y_pred, '.', label='Prediction')\n",
    "plt.legend(loc='best', ncol=1)\n",
    "plt.show()"
   ]
  },
  {
   "cell_type": "markdown",
   "id": "72fadae5-23a0-4cc9-a96d-315ba49c5e0e",
   "metadata": {},
   "source": [
    "---"
   ]
  },
  {
   "cell_type": "markdown",
   "id": "0602a73b-065a-4121-bf7b-8be2171b9a9a",
   "metadata": {},
   "source": [
    "## <font color=\"blue\">Challenge task:</font><br>Write your own optimiser (in own time)\n",
    "**You can try using this Random Coordinate Descent (RCD) optimiser**<br>\n",
    "*RCD is a gradient-based optimizer, so it uses the gradient of the cost function.<br>\n",
    "This method updates one random parameter at the time, so it is very slow!<br>\n",
    "However, think what would be the advantages of this approach!*<br/>\n",
    "Ref: https://pennylane.ai/blog/2022/07/how-to-create-your-own-optimizer"
   ]
  },
  {
   "cell_type": "code",
   "execution_count": 19,
   "id": "f5853bf8-ece6-4c96-a485-de8b100510dc",
   "metadata": {},
   "outputs": [],
   "source": [
    "class RCDOptimizer:\n",
    "    def __init__(self, eta=0.01 , h=0.005):\n",
    "        self.h = h\n",
    "        self.eta = eta\n",
    "\n",
    "    def step(self, objective_fn, theta):\n",
    "        i = np.random.randint(theta.size)\n",
    "        shape = theta.shape\n",
    "        dt = np.eye(1,theta.size,i)\n",
    "        theta = theta.reshape(-1)\n",
    "        dtheta = (objective_fn((theta+dt*self.h).reshape(shape)) \n",
    "                    -objective_fn((theta-dt*self.h).reshape(shape)))/(2*self.h)\n",
    "        return (theta - self.eta*dtheta*dt).reshape(shape)\n",
    "\n",
    "    def step_and_cost(self, objective_fn, theta):\n",
    "        theta = self.step(objective_fn, theta)\n",
    "        return theta, objective_fn(theta)"
   ]
  },
  {
   "cell_type": "markdown",
   "id": "8efa6e81-1500-4ff7-8996-3b3fd555b4f0",
   "metadata": {},
   "source": [
    "---"
   ]
  },
  {
   "cell_type": "markdown",
   "id": "be08d572-83ec-4a1b-ad45-5255766f160f",
   "metadata": {},
   "source": [
    "## Write your observations here\n",
    "\n",
    "- Task 1:\n",
    "- Task 2: 2 qubits, 4 lay - epochs=50, min cost=2.7e-05 @ 38, time=014 secs\n",
    "- Task 3:\n",
    "  4q, 4l - epochs=50, min cost=0.000171 @ 49, time=029 secs<br>\n",
    "  2q, 6l - epochs=50, min cost=0.00016 @ 46, time=019 secs\n",
    "- Task 4:\n",
    "  1q, 1l - epochs=50, min cost=5e-06 @ 21, time=004 secs\n",
    "- Task 5:\n",
    "- Task 6:\n",
    "- Task 7:\n",
    "- Challenge:\n",
    "- Reflection:"
   ]
  },
  {
   "cell_type": "markdown",
   "id": "3a06b6a8-8134-4626-b2c5-f23cf45131d8",
   "metadata": {},
   "source": [
    "## Software (Linux)"
   ]
  },
  {
   "cell_type": "code",
   "execution_count": 20,
   "id": "eebf9524-5465-4c99-84f9-f07b8a7dbfe1",
   "metadata": {},
   "outputs": [
    {
     "name": "stdout",
     "output_type": "stream",
     "text": [
      "pennylane                 0.42.3\n",
      "pennylane_lightning       0.42.0\n",
      "torch                     2.8.0\n",
      "torchaudio                2.8.0\n",
      "torcheval                 0.0.7\n",
      "torchmetrics              1.8.2\n",
      "torchsummary              1.5.1\n",
      "torchvision               0.23.0\n"
     ]
    }
   ],
   "source": [
    "import os\n",
    "os.system('pip list | grep -e pennylane -e torch');"
   ]
  }
 ],
 "metadata": {
  "kernelspec": {
   "display_name": "Python 3 (ipykernel)",
   "language": "python",
   "name": "python3"
  },
  "language_info": {
   "codemirror_mode": {
    "name": "ipython",
    "version": 3
   },
   "file_extension": ".py",
   "mimetype": "text/x-python",
   "name": "python",
   "nbconvert_exporter": "python",
   "pygments_lexer": "ipython3",
   "version": "3.11.4"
  }
 },
 "nbformat": 4,
 "nbformat_minor": 5
}
